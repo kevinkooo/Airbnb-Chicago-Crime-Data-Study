{
 "cells": [
  {
   "cell_type": "markdown",
   "id": "653c224d-87da-4519-ac62-a309c0e068e1",
   "metadata": {},
   "source": [
    "## DE Final Project Transformation"
   ]
  },
  {
   "cell_type": "code",
   "execution_count": 3,
   "id": "e9c4b5ff-08a3-4277-bcb5-57222bf1335c",
   "metadata": {
    "tags": []
   },
   "outputs": [],
   "source": [
    "import pandas as pd"
   ]
  },
  {
   "cell_type": "code",
   "execution_count": null,
   "id": "8dbd4cea-d29b-4a18-a2bd-88cc82b5861b",
   "metadata": {
    "tags": []
   },
   "outputs": [],
   "source": [
    "cleaned_data = pd.read_csv('/Users/kevinko/Desktop/Uchicago/Data engineering platform/Final Project/Crimes_-_2001_to_Present_20231106.csv')"
   ]
  },
  {
   "cell_type": "code",
   "execution_count": null,
   "id": "a6fae954-2c20-4441-b33c-3e53b2d1fd66",
   "metadata": {
    "tags": []
   },
   "outputs": [],
   "source": [
    "cleaned_data = cleaned_data.dropna()"
   ]
  },
  {
   "cell_type": "code",
   "execution_count": null,
   "id": "a335fba3-7dbc-4715-8786-47a86e9f4094",
   "metadata": {
    "tags": []
   },
   "outputs": [],
   "source": [
    "cleaned_data.head()"
   ]
  },
  {
   "cell_type": "markdown",
   "id": "0f0a8d7e-3a49-47f7-ac31-bbbe5478e980",
   "metadata": {},
   "source": [
    "## Cleaning the unnecessary columns "
   ]
  },
  {
   "cell_type": "code",
   "execution_count": null,
   "id": "c7046bfd-4c34-49a5-b7ba-318fbf20d728",
   "metadata": {
    "tags": []
   },
   "outputs": [],
   "source": [
    "cleaned_data.columns"
   ]
  },
  {
   "cell_type": "code",
   "execution_count": null,
   "id": "25b29853-9a78-41dd-a13d-215c66c776a0",
   "metadata": {
    "tags": []
   },
   "outputs": [],
   "source": [
    "columns_to_drop = ['Case Number', 'Block', 'IUCR',\n",
    "       'Description', 'Location Description', 'Arrest', 'Domestic', 'Beat', 'FBI Code', 'X Coordinate',\n",
    "       'Y Coordinate', 'Year', 'Updated On', 'Latitude', 'Longitude',\n",
    "       'Location']"
   ]
  },
  {
   "cell_type": "code",
   "execution_count": null,
   "id": "59097abc-9909-416b-a197-ebfebd00ae8d",
   "metadata": {
    "tags": []
   },
   "outputs": [],
   "source": [
    "cleaned_data = cleaned_data.drop(columns=columns_to_drop)"
   ]
  },
  {
   "cell_type": "code",
   "execution_count": null,
   "id": "8fe18c2d-4a0d-4623-86d3-900f9748b3db",
   "metadata": {
    "tags": []
   },
   "outputs": [],
   "source": [
    "cleaned_data "
   ]
  },
  {
   "cell_type": "markdown",
   "id": "90e2b9e7-0ace-46a2-8f1a-289e83a517ab",
   "metadata": {
    "tags": []
   },
   "source": [
    "## Convert the date to quarter"
   ]
  },
  {
   "cell_type": "code",
   "execution_count": null,
   "id": "b12e28f2-e3da-4385-a8c5-1020fac8c381",
   "metadata": {
    "tags": []
   },
   "outputs": [],
   "source": [
    "import pandas as pd\n",
    "\n",
    "# Convert 'Date' column to datetime format\n",
    "cleaned_data['Date'] = pd.to_datetime(cleaned_data['Date'])\n",
    "\n",
    "# Create 'year' column\n",
    "cleaned_data['year'] = cleaned_data['Date'].dt.year\n",
    "\n",
    "# Create 'quarter' column\n",
    "cleaned_data['quarter'] = cleaned_data['Date'].dt.quarter\n",
    "\n",
    "print(cleaned_data[cleaned_data['quarter']==1])"
   ]
  },
  {
   "cell_type": "code",
   "execution_count": null,
   "id": "e43871cf-78f6-499a-a001-b940e85d1f32",
   "metadata": {
    "tags": []
   },
   "outputs": [],
   "source": [
    "cleaned_data"
   ]
  },
  {
   "cell_type": "markdown",
   "id": "e838c979-2d8e-4a5b-9943-5d17fa22e923",
   "metadata": {
    "tags": []
   },
   "source": [
    "## Convernt community area into neighborhood\n",
    "## !! Not a necessary step for normalizing data but will be useful for data analysis"
   ]
  },
  {
   "cell_type": "code",
   "execution_count": null,
   "id": "f3f65876-2b68-4d4c-a6ff-268634d09bc4",
   "metadata": {
    "tags": []
   },
   "outputs": [],
   "source": [
    "community = pd.read_csv('/Users/kevinko/Desktop/Uchicago/Data engineering platform/Final Project/chicago_community_areas_transposed.csv')"
   ]
  },
  {
   "cell_type": "code",
   "execution_count": null,
   "id": "5a35ebfd-24ca-4a35-91cc-f1c31348739a",
   "metadata": {
    "tags": []
   },
   "outputs": [],
   "source": [
    "community"
   ]
  },
  {
   "cell_type": "code",
   "execution_count": null,
   "id": "ac883fb6-8ab8-4d79-9294-f3a0a03a5afc",
   "metadata": {
    "tags": []
   },
   "outputs": [],
   "source": [
    "# Assuming 'cleaned_data' DataFrame has a column 'Community Area'\n",
    "# Assuming 'community' DataFrame has a column 'neighborhood_id'\n",
    "\n",
    "# Perform a merge based on the common columns\n",
    "merged_data = cleaned_data.merge(community, left_on='Community Area', right_on='community_area', how='left')\n",
    "\n",
    "# 'how' parameter determines the type of merge. Here 'left' ensures all rows from 'cleaned_data' are kept\n",
    "\n",
    "# Display the merged DataFrame\n",
    "print(merged_data)\n",
    "\n",
    "cleaned_data = merged_data # make the data back again \n"
   ]
  },
  {
   "cell_type": "markdown",
   "id": "79f251c2-2b00-4f4d-9177-efabe01704da",
   "metadata": {},
   "source": [
    "## Convert Crime type to valid score"
   ]
  },
  {
   "cell_type": "code",
   "execution_count": null,
   "id": "4997d094-aa75-47ec-9bc7-1d911705f227",
   "metadata": {
    "tags": []
   },
   "outputs": [],
   "source": [
    "crime = pd.read_excel('/Users/kevinko/Desktop/Uchicago/Data engineering platform/Final Project/Criminal type numerical scale_cleaned.xlsx')"
   ]
  },
  {
   "cell_type": "code",
   "execution_count": null,
   "id": "c9570660-9a59-41dc-bb3c-0283abed33ae",
   "metadata": {
    "tags": []
   },
   "outputs": [],
   "source": [
    "crime.columns"
   ]
  },
  {
   "cell_type": "code",
   "execution_count": null,
   "id": "e5501718-b125-4d0b-bcdc-8cbf7bfb7799",
   "metadata": {
    "tags": []
   },
   "outputs": [],
   "source": [
    "merged_data_2 = cleaned_data.merge(crime, left_on='Primary Type', right_on='Primary Type', how='left')\n",
    "\n",
    "\n",
    "# Display the merged DataFrame\n",
    "print(merged_data_2)\n"
   ]
  },
  {
   "cell_type": "code",
   "execution_count": null,
   "id": "ac73d2ed-a735-4eb0-a52e-fd673d381764",
   "metadata": {
    "tags": []
   },
   "outputs": [],
   "source": [
    "merged_data_2.columns"
   ]
  },
  {
   "cell_type": "code",
   "execution_count": null,
   "id": "7d4fede8-a5aa-4b17-8d7a-f4a8efa07b06",
   "metadata": {
    "tags": []
   },
   "outputs": [],
   "source": [
    "drop_column_2 = ['District', 'Ward', 'Date']"
   ]
  },
  {
   "cell_type": "code",
   "execution_count": null,
   "id": "dc70bbd8-e851-4478-af9b-0b4ef1f7120e",
   "metadata": {
    "tags": []
   },
   "outputs": [],
   "source": [
    "cleaned_crime_data = merged_data_2.drop(columns=drop_column_2)"
   ]
  },
  {
   "cell_type": "code",
   "execution_count": null,
   "id": "466d59f1-6c1c-45ab-ae9e-135fe23a1134",
   "metadata": {
    "tags": []
   },
   "outputs": [],
   "source": [
    "cleaned_crime_data\n"
   ]
  },
  {
   "cell_type": "code",
   "execution_count": null,
   "id": "55ebed96-c193-405e-a12b-ca66c0e759f8",
   "metadata": {
    "tags": []
   },
   "outputs": [],
   "source": [
    "average_scores = cleaned_crime_data.groupby(['quarter', 'year', 'Community Area'])['Score'].mean().reset_index()\n",
    "\n",
    "print(average_scores.round(2))\n"
   ]
  },
  {
   "cell_type": "code",
   "execution_count": null,
   "id": "f28949be-458a-4784-94d2-afd3dafc1edb",
   "metadata": {
    "tags": []
   },
   "outputs": [],
   "source": [
    "df = pd.merge(cleaned_crime_data, average_scores.round(2), on=['quarter', 'year', 'Community Area'], how='left', suffixes=('', '_avg'))"
   ]
  },
  {
   "cell_type": "markdown",
   "id": "726d4475-e9d1-4bc1-ac2c-220404ee4ec5",
   "metadata": {},
   "source": [
    "## renaming name to neighbourhood"
   ]
  },
  {
   "cell_type": "code",
   "execution_count": null,
   "id": "328c454c-c202-47a8-a465-09ae40f3f308",
   "metadata": {
    "tags": []
   },
   "outputs": [],
   "source": [
    "df = df.rename(columns={'Community Area': 'neighbourhood_id'})"
   ]
  },
  {
   "cell_type": "markdown",
   "id": "cb2b5b13-d95a-4235-af64-44291f91ccf2",
   "metadata": {},
   "source": [
    "## Final drop (normalization of Crime Data)"
   ]
  },
  {
   "cell_type": "code",
   "execution_count": null,
   "id": "78c7c994-4dd4-4da7-8c05-8746811d82d9",
   "metadata": {
    "tags": []
   },
   "outputs": [],
   "source": [
    "drop_column_final = [ 'Primary Type', 'year']\n",
    "\n",
    "df = df.drop(columns=drop_column_final)"
   ]
  },
  {
   "cell_type": "code",
   "execution_count": null,
   "id": "b2919d23-fdb5-4d9d-9ab8-4072d5fe5bf3",
   "metadata": {
    "tags": []
   },
   "outputs": [],
   "source": [
    "df"
   ]
  },
  {
   "cell_type": "code",
   "execution_count": null,
   "id": "efd26dd5-63af-41ca-95ca-3e343e7094c1",
   "metadata": {
    "tags": []
   },
   "outputs": [],
   "source": [
    "df.to_csv('cleaned_crime.csv', index=False)"
   ]
  },
  {
   "cell_type": "markdown",
   "id": "de7b3d42-4ca6-44b8-92ce-afc7d8c4bb8f",
   "metadata": {},
   "source": [
    "## Airbnb Listing"
   ]
  },
  {
   "cell_type": "code",
   "execution_count": 4,
   "id": "5c4e1ea4-aaaf-4f78-918e-c220eba87972",
   "metadata": {
    "tags": []
   },
   "outputs": [],
   "source": [
    "listing = pd.read_csv('/Users/kevinko/Desktop/Uchicago/Data engineering platform/Final Project/listing.csv')"
   ]
  },
  {
   "cell_type": "code",
   "execution_count": 6,
   "id": "627d05a5-2341-4e5b-94ec-deffcb507e58",
   "metadata": {
    "tags": []
   },
   "outputs": [],
   "source": [
    "listing = listing.dropna(subset=['neighbourhood_id'])\n",
    "\n",
    "listing['neighbourhood_id'] = listing['neighbourhood_id'].astype(int)"
   ]
  },
  {
   "cell_type": "markdown",
   "id": "67974c1b-abd4-4fbf-98dd-553e3c3b5e33",
   "metadata": {},
   "source": [
    " need to make sure that the combination of 'neighbourhood_id' and 'quarter' is unique in both tables. If there are multiple rows with the same combination in either table, a Cartesian product will be created, resulting in additional rows."
   ]
  },
  {
   "cell_type": "code",
   "execution_count": 8,
   "id": "cb40c924-41e9-41cc-a8f4-8c7c81845041",
   "metadata": {
    "tags": []
   },
   "outputs": [],
   "source": [
    "df = df.drop_duplicates(subset=['neighbourhood_id', 'quarter'], keep='first')\n"
   ]
  },
  {
   "cell_type": "code",
   "execution_count": 10,
   "id": "6f0d38d7-91a5-410a-9df4-bc1e93cf3318",
   "metadata": {
    "tags": []
   },
   "outputs": [
    {
     "data": {
      "text/html": [
       "<div>\n",
       "<style scoped>\n",
       "    .dataframe tbody tr th:only-of-type {\n",
       "        vertical-align: middle;\n",
       "    }\n",
       "\n",
       "    .dataframe tbody tr th {\n",
       "        vertical-align: top;\n",
       "    }\n",
       "\n",
       "    .dataframe thead th {\n",
       "        text-align: right;\n",
       "    }\n",
       "</style>\n",
       "<table border=\"1\" class=\"dataframe\">\n",
       "  <thead>\n",
       "    <tr style=\"text-align: right;\">\n",
       "      <th></th>\n",
       "      <th>ID</th>\n",
       "      <th>neighbourhood_id</th>\n",
       "      <th>quarter</th>\n",
       "      <th>Score</th>\n",
       "      <th>Score_avg</th>\n",
       "    </tr>\n",
       "  </thead>\n",
       "  <tbody>\n",
       "    <tr>\n",
       "      <th>0</th>\n",
       "      <td>12876758</td>\n",
       "      <td>3</td>\n",
       "      <td>4</td>\n",
       "      <td>7</td>\n",
       "      <td>5.82</td>\n",
       "    </tr>\n",
       "    <tr>\n",
       "      <th>1</th>\n",
       "      <td>12876833</td>\n",
       "      <td>1</td>\n",
       "      <td>4</td>\n",
       "      <td>5</td>\n",
       "      <td>5.86</td>\n",
       "    </tr>\n",
       "    <tr>\n",
       "      <th>2</th>\n",
       "      <td>12877365</td>\n",
       "      <td>71</td>\n",
       "      <td>4</td>\n",
       "      <td>8</td>\n",
       "      <td>6.12</td>\n",
       "    </tr>\n",
       "    <tr>\n",
       "      <th>3</th>\n",
       "      <td>12877003</td>\n",
       "      <td>38</td>\n",
       "      <td>4</td>\n",
       "      <td>5</td>\n",
       "      <td>5.90</td>\n",
       "    </tr>\n",
       "    <tr>\n",
       "      <th>4</th>\n",
       "      <td>12877755</td>\n",
       "      <td>33</td>\n",
       "      <td>4</td>\n",
       "      <td>5</td>\n",
       "      <td>5.88</td>\n",
       "    </tr>\n",
       "    <tr>\n",
       "      <th>...</th>\n",
       "      <td>...</td>\n",
       "      <td>...</td>\n",
       "      <td>...</td>\n",
       "      <td>...</td>\n",
       "      <td>...</td>\n",
       "    </tr>\n",
       "    <tr>\n",
       "      <th>165042</th>\n",
       "      <td>13126416</td>\n",
       "      <td>34</td>\n",
       "      <td>3</td>\n",
       "      <td>7</td>\n",
       "      <td>6.18</td>\n",
       "    </tr>\n",
       "    <tr>\n",
       "      <th>165171</th>\n",
       "      <td>13135398</td>\n",
       "      <td>50</td>\n",
       "      <td>3</td>\n",
       "      <td>5</td>\n",
       "      <td>5.82</td>\n",
       "    </tr>\n",
       "    <tr>\n",
       "      <th>165325</th>\n",
       "      <td>13127006</td>\n",
       "      <td>74</td>\n",
       "      <td>3</td>\n",
       "      <td>6</td>\n",
       "      <td>5.65</td>\n",
       "    </tr>\n",
       "    <tr>\n",
       "      <th>165500</th>\n",
       "      <td>13127292</td>\n",
       "      <td>11</td>\n",
       "      <td>3</td>\n",
       "      <td>8</td>\n",
       "      <td>5.69</td>\n",
       "    </tr>\n",
       "    <tr>\n",
       "      <th>165787</th>\n",
       "      <td>13132688</td>\n",
       "      <td>9</td>\n",
       "      <td>3</td>\n",
       "      <td>2</td>\n",
       "      <td>5.46</td>\n",
       "    </tr>\n",
       "  </tbody>\n",
       "</table>\n",
       "<p>308 rows × 5 columns</p>\n",
       "</div>"
      ],
      "text/plain": [
       "              ID  neighbourhood_id  quarter  Score  Score_avg\n",
       "0       12876758                 3        4      7       5.82\n",
       "1       12876833                 1        4      5       5.86\n",
       "2       12877365                71        4      8       6.12\n",
       "3       12877003                38        4      5       5.90\n",
       "4       12877755                33        4      5       5.88\n",
       "...          ...               ...      ...    ...        ...\n",
       "165042  13126416                34        3      7       6.18\n",
       "165171  13135398                50        3      5       5.82\n",
       "165325  13127006                74        3      6       5.65\n",
       "165500  13127292                11        3      8       5.69\n",
       "165787  13132688                 9        3      2       5.46\n",
       "\n",
       "[308 rows x 5 columns]"
      ]
     },
     "execution_count": 10,
     "metadata": {},
     "output_type": "execute_result"
    }
   ],
   "source": [
    "df"
   ]
  },
  {
   "cell_type": "code",
   "execution_count": 9,
   "id": "6bb140a5-6866-43ec-8bf4-ba5e8f522e5a",
   "metadata": {
    "tags": []
   },
   "outputs": [
    {
     "data": {
      "text/html": [
       "<div>\n",
       "<style scoped>\n",
       "    .dataframe tbody tr th:only-of-type {\n",
       "        vertical-align: middle;\n",
       "    }\n",
       "\n",
       "    .dataframe tbody tr th {\n",
       "        vertical-align: top;\n",
       "    }\n",
       "\n",
       "    .dataframe thead th {\n",
       "        text-align: right;\n",
       "    }\n",
       "</style>\n",
       "<table border=\"1\" class=\"dataframe\">\n",
       "  <thead>\n",
       "    <tr style=\"text-align: right;\">\n",
       "      <th></th>\n",
       "      <th>listing_id</th>\n",
       "      <th>host_id</th>\n",
       "      <th>roomtype_id</th>\n",
       "      <th>neighbourhood_id</th>\n",
       "      <th>license_id</th>\n",
       "      <th>avg_price</th>\n",
       "      <th>min_nights</th>\n",
       "      <th>review_per_month</th>\n",
       "      <th>occupancy</th>\n",
       "      <th>quarter</th>\n",
       "    </tr>\n",
       "  </thead>\n",
       "  <tbody>\n",
       "    <tr>\n",
       "      <th>0</th>\n",
       "      <td>2384</td>\n",
       "      <td>2613</td>\n",
       "      <td>1</td>\n",
       "      <td>41</td>\n",
       "      <td>1</td>\n",
       "      <td>90</td>\n",
       "      <td>3</td>\n",
       "      <td>2.13</td>\n",
       "      <td>18</td>\n",
       "      <td>1</td>\n",
       "    </tr>\n",
       "    <tr>\n",
       "      <th>1</th>\n",
       "      <td>94450</td>\n",
       "      <td>504470</td>\n",
       "      <td>2</td>\n",
       "      <td>77</td>\n",
       "      <td>1</td>\n",
       "      <td>65</td>\n",
       "      <td>7</td>\n",
       "      <td>0.88</td>\n",
       "      <td>187</td>\n",
       "      <td>1</td>\n",
       "    </tr>\n",
       "    <tr>\n",
       "      <th>2</th>\n",
       "      <td>145659</td>\n",
       "      <td>683529</td>\n",
       "      <td>2</td>\n",
       "      <td>5</td>\n",
       "      <td>1</td>\n",
       "      <td>198</td>\n",
       "      <td>2</td>\n",
       "      <td>0.65</td>\n",
       "      <td>35</td>\n",
       "      <td>1</td>\n",
       "    </tr>\n",
       "    <tr>\n",
       "      <th>3</th>\n",
       "      <td>7126</td>\n",
       "      <td>17928</td>\n",
       "      <td>2</td>\n",
       "      <td>24</td>\n",
       "      <td>1</td>\n",
       "      <td>85</td>\n",
       "      <td>2</td>\n",
       "      <td>2.89</td>\n",
       "      <td>86</td>\n",
       "      <td>1</td>\n",
       "    </tr>\n",
       "    <tr>\n",
       "      <th>4</th>\n",
       "      <td>189821</td>\n",
       "      <td>899757</td>\n",
       "      <td>2</td>\n",
       "      <td>22</td>\n",
       "      <td>1</td>\n",
       "      <td>202</td>\n",
       "      <td>3</td>\n",
       "      <td>4.27</td>\n",
       "      <td>158</td>\n",
       "      <td>1</td>\n",
       "    </tr>\n",
       "    <tr>\n",
       "      <th>...</th>\n",
       "      <td>...</td>\n",
       "      <td>...</td>\n",
       "      <td>...</td>\n",
       "      <td>...</td>\n",
       "      <td>...</td>\n",
       "      <td>...</td>\n",
       "      <td>...</td>\n",
       "      <td>...</td>\n",
       "      <td>...</td>\n",
       "      <td>...</td>\n",
       "    </tr>\n",
       "    <tr>\n",
       "      <th>31909</th>\n",
       "      <td>771880753874742770</td>\n",
       "      <td>488113016</td>\n",
       "      <td>2</td>\n",
       "      <td>2</td>\n",
       "      <td>1</td>\n",
       "      <td>66</td>\n",
       "      <td>1</td>\n",
       "      <td>0.00</td>\n",
       "      <td>295</td>\n",
       "      <td>4</td>\n",
       "    </tr>\n",
       "    <tr>\n",
       "      <th>31910</th>\n",
       "      <td>771881329605160225</td>\n",
       "      <td>488113016</td>\n",
       "      <td>2</td>\n",
       "      <td>1</td>\n",
       "      <td>1</td>\n",
       "      <td>92</td>\n",
       "      <td>1</td>\n",
       "      <td>0.00</td>\n",
       "      <td>299</td>\n",
       "      <td>4</td>\n",
       "    </tr>\n",
       "    <tr>\n",
       "      <th>31911</th>\n",
       "      <td>779992322133479260</td>\n",
       "      <td>490950442</td>\n",
       "      <td>2</td>\n",
       "      <td>8</td>\n",
       "      <td>2</td>\n",
       "      <td>33</td>\n",
       "      <td>60</td>\n",
       "      <td>0.00</td>\n",
       "      <td>256</td>\n",
       "      <td>4</td>\n",
       "    </tr>\n",
       "    <tr>\n",
       "      <th>31912</th>\n",
       "      <td>780097517605219739</td>\n",
       "      <td>316658141</td>\n",
       "      <td>1</td>\n",
       "      <td>32</td>\n",
       "      <td>1</td>\n",
       "      <td>143</td>\n",
       "      <td>4</td>\n",
       "      <td>0.00</td>\n",
       "      <td>307</td>\n",
       "      <td>4</td>\n",
       "    </tr>\n",
       "    <tr>\n",
       "      <th>31913</th>\n",
       "      <td>780251823315015012</td>\n",
       "      <td>107434423</td>\n",
       "      <td>2</td>\n",
       "      <td>32</td>\n",
       "      <td>2</td>\n",
       "      <td>125</td>\n",
       "      <td>32</td>\n",
       "      <td>0.00</td>\n",
       "      <td>42</td>\n",
       "      <td>4</td>\n",
       "    </tr>\n",
       "  </tbody>\n",
       "</table>\n",
       "<p>31665 rows × 10 columns</p>\n",
       "</div>"
      ],
      "text/plain": [
       "               listing_id    host_id  roomtype_id  neighbourhood_id  \\\n",
       "0                    2384       2613            1                41   \n",
       "1                   94450     504470            2                77   \n",
       "2                  145659     683529            2                 5   \n",
       "3                    7126      17928            2                24   \n",
       "4                  189821     899757            2                22   \n",
       "...                   ...        ...          ...               ...   \n",
       "31909  771880753874742770  488113016            2                 2   \n",
       "31910  771881329605160225  488113016            2                 1   \n",
       "31911  779992322133479260  490950442            2                 8   \n",
       "31912  780097517605219739  316658141            1                32   \n",
       "31913  780251823315015012  107434423            2                32   \n",
       "\n",
       "       license_id  avg_price  min_nights  review_per_month  occupancy  quarter  \n",
       "0               1         90           3              2.13         18        1  \n",
       "1               1         65           7              0.88        187        1  \n",
       "2               1        198           2              0.65         35        1  \n",
       "3               1         85           2              2.89         86        1  \n",
       "4               1        202           3              4.27        158        1  \n",
       "...           ...        ...         ...               ...        ...      ...  \n",
       "31909           1         66           1              0.00        295        4  \n",
       "31910           1         92           1              0.00        299        4  \n",
       "31911           2         33          60              0.00        256        4  \n",
       "31912           1        143           4              0.00        307        4  \n",
       "31913           2        125          32              0.00         42        4  \n",
       "\n",
       "[31665 rows x 10 columns]"
      ]
     },
     "execution_count": 9,
     "metadata": {},
     "output_type": "execute_result"
    }
   ],
   "source": [
    "listing"
   ]
  },
  {
   "cell_type": "code",
   "execution_count": 11,
   "id": "f3b82f9c-16fe-4560-adc9-ee294616a4df",
   "metadata": {
    "tags": []
   },
   "outputs": [],
   "source": [
    "final = pd.merge(listing, df[['neighbourhood_id', 'quarter', 'Score_avg']], \n",
    "                     on=['neighbourhood_id', 'quarter'], how='left')"
   ]
  },
  {
   "cell_type": "code",
   "execution_count": null,
   "id": "58758554-271f-42b6-9d80-b395127cb3a5",
   "metadata": {
    "tags": []
   },
   "outputs": [],
   "source": [
    "final.columns"
   ]
  },
  {
   "cell_type": "code",
   "execution_count": null,
   "id": "002f6646-88ae-4ba8-8b94-f1295fbc0610",
   "metadata": {
    "tags": []
   },
   "outputs": [],
   "source": [
    "final.head()"
   ]
  },
  {
   "cell_type": "code",
   "execution_count": 12,
   "id": "2361881f-35ee-49c2-8249-20075f4b203b",
   "metadata": {
    "tags": []
   },
   "outputs": [
    {
     "data": {
      "text/html": [
       "<div>\n",
       "<style scoped>\n",
       "    .dataframe tbody tr th:only-of-type {\n",
       "        vertical-align: middle;\n",
       "    }\n",
       "\n",
       "    .dataframe tbody tr th {\n",
       "        vertical-align: top;\n",
       "    }\n",
       "\n",
       "    .dataframe thead th {\n",
       "        text-align: right;\n",
       "    }\n",
       "</style>\n",
       "<table border=\"1\" class=\"dataframe\">\n",
       "  <thead>\n",
       "    <tr style=\"text-align: right;\">\n",
       "      <th></th>\n",
       "      <th>listing_id</th>\n",
       "      <th>host_id</th>\n",
       "      <th>roomtype_id</th>\n",
       "      <th>neighbourhood_id</th>\n",
       "      <th>license_id</th>\n",
       "      <th>avg_price</th>\n",
       "      <th>min_nights</th>\n",
       "      <th>review_per_month</th>\n",
       "      <th>occupancy</th>\n",
       "      <th>quarter</th>\n",
       "      <th>Score_avg</th>\n",
       "    </tr>\n",
       "  </thead>\n",
       "  <tbody>\n",
       "    <tr>\n",
       "      <th>0</th>\n",
       "      <td>2384</td>\n",
       "      <td>2613</td>\n",
       "      <td>1</td>\n",
       "      <td>41</td>\n",
       "      <td>1</td>\n",
       "      <td>90</td>\n",
       "      <td>3</td>\n",
       "      <td>2.13</td>\n",
       "      <td>18</td>\n",
       "      <td>1</td>\n",
       "      <td>5.62</td>\n",
       "    </tr>\n",
       "    <tr>\n",
       "      <th>1</th>\n",
       "      <td>94450</td>\n",
       "      <td>504470</td>\n",
       "      <td>2</td>\n",
       "      <td>77</td>\n",
       "      <td>1</td>\n",
       "      <td>65</td>\n",
       "      <td>7</td>\n",
       "      <td>0.88</td>\n",
       "      <td>187</td>\n",
       "      <td>1</td>\n",
       "      <td>5.57</td>\n",
       "    </tr>\n",
       "    <tr>\n",
       "      <th>2</th>\n",
       "      <td>145659</td>\n",
       "      <td>683529</td>\n",
       "      <td>2</td>\n",
       "      <td>5</td>\n",
       "      <td>1</td>\n",
       "      <td>198</td>\n",
       "      <td>2</td>\n",
       "      <td>0.65</td>\n",
       "      <td>35</td>\n",
       "      <td>1</td>\n",
       "      <td>5.71</td>\n",
       "    </tr>\n",
       "    <tr>\n",
       "      <th>3</th>\n",
       "      <td>7126</td>\n",
       "      <td>17928</td>\n",
       "      <td>2</td>\n",
       "      <td>24</td>\n",
       "      <td>1</td>\n",
       "      <td>85</td>\n",
       "      <td>2</td>\n",
       "      <td>2.89</td>\n",
       "      <td>86</td>\n",
       "      <td>1</td>\n",
       "      <td>5.74</td>\n",
       "    </tr>\n",
       "    <tr>\n",
       "      <th>4</th>\n",
       "      <td>189821</td>\n",
       "      <td>899757</td>\n",
       "      <td>2</td>\n",
       "      <td>22</td>\n",
       "      <td>1</td>\n",
       "      <td>202</td>\n",
       "      <td>3</td>\n",
       "      <td>4.27</td>\n",
       "      <td>158</td>\n",
       "      <td>1</td>\n",
       "      <td>5.63</td>\n",
       "    </tr>\n",
       "    <tr>\n",
       "      <th>...</th>\n",
       "      <td>...</td>\n",
       "      <td>...</td>\n",
       "      <td>...</td>\n",
       "      <td>...</td>\n",
       "      <td>...</td>\n",
       "      <td>...</td>\n",
       "      <td>...</td>\n",
       "      <td>...</td>\n",
       "      <td>...</td>\n",
       "      <td>...</td>\n",
       "      <td>...</td>\n",
       "    </tr>\n",
       "    <tr>\n",
       "      <th>31660</th>\n",
       "      <td>771880753874742770</td>\n",
       "      <td>488113016</td>\n",
       "      <td>2</td>\n",
       "      <td>2</td>\n",
       "      <td>1</td>\n",
       "      <td>66</td>\n",
       "      <td>1</td>\n",
       "      <td>0.00</td>\n",
       "      <td>295</td>\n",
       "      <td>4</td>\n",
       "      <td>5.90</td>\n",
       "    </tr>\n",
       "    <tr>\n",
       "      <th>31661</th>\n",
       "      <td>771881329605160225</td>\n",
       "      <td>488113016</td>\n",
       "      <td>2</td>\n",
       "      <td>1</td>\n",
       "      <td>1</td>\n",
       "      <td>92</td>\n",
       "      <td>1</td>\n",
       "      <td>0.00</td>\n",
       "      <td>299</td>\n",
       "      <td>4</td>\n",
       "      <td>5.86</td>\n",
       "    </tr>\n",
       "    <tr>\n",
       "      <th>31662</th>\n",
       "      <td>779992322133479260</td>\n",
       "      <td>490950442</td>\n",
       "      <td>2</td>\n",
       "      <td>8</td>\n",
       "      <td>2</td>\n",
       "      <td>33</td>\n",
       "      <td>60</td>\n",
       "      <td>0.00</td>\n",
       "      <td>256</td>\n",
       "      <td>4</td>\n",
       "      <td>5.62</td>\n",
       "    </tr>\n",
       "    <tr>\n",
       "      <th>31663</th>\n",
       "      <td>780097517605219739</td>\n",
       "      <td>316658141</td>\n",
       "      <td>1</td>\n",
       "      <td>32</td>\n",
       "      <td>1</td>\n",
       "      <td>143</td>\n",
       "      <td>4</td>\n",
       "      <td>0.00</td>\n",
       "      <td>307</td>\n",
       "      <td>4</td>\n",
       "      <td>5.60</td>\n",
       "    </tr>\n",
       "    <tr>\n",
       "      <th>31664</th>\n",
       "      <td>780251823315015012</td>\n",
       "      <td>107434423</td>\n",
       "      <td>2</td>\n",
       "      <td>32</td>\n",
       "      <td>2</td>\n",
       "      <td>125</td>\n",
       "      <td>32</td>\n",
       "      <td>0.00</td>\n",
       "      <td>42</td>\n",
       "      <td>4</td>\n",
       "      <td>5.60</td>\n",
       "    </tr>\n",
       "  </tbody>\n",
       "</table>\n",
       "<p>31665 rows × 11 columns</p>\n",
       "</div>"
      ],
      "text/plain": [
       "               listing_id    host_id  roomtype_id  neighbourhood_id  \\\n",
       "0                    2384       2613            1                41   \n",
       "1                   94450     504470            2                77   \n",
       "2                  145659     683529            2                 5   \n",
       "3                    7126      17928            2                24   \n",
       "4                  189821     899757            2                22   \n",
       "...                   ...        ...          ...               ...   \n",
       "31660  771880753874742770  488113016            2                 2   \n",
       "31661  771881329605160225  488113016            2                 1   \n",
       "31662  779992322133479260  490950442            2                 8   \n",
       "31663  780097517605219739  316658141            1                32   \n",
       "31664  780251823315015012  107434423            2                32   \n",
       "\n",
       "       license_id  avg_price  min_nights  review_per_month  occupancy  \\\n",
       "0               1         90           3              2.13         18   \n",
       "1               1         65           7              0.88        187   \n",
       "2               1        198           2              0.65         35   \n",
       "3               1         85           2              2.89         86   \n",
       "4               1        202           3              4.27        158   \n",
       "...           ...        ...         ...               ...        ...   \n",
       "31660           1         66           1              0.00        295   \n",
       "31661           1         92           1              0.00        299   \n",
       "31662           2         33          60              0.00        256   \n",
       "31663           1        143           4              0.00        307   \n",
       "31664           2        125          32              0.00         42   \n",
       "\n",
       "       quarter  Score_avg  \n",
       "0            1       5.62  \n",
       "1            1       5.57  \n",
       "2            1       5.71  \n",
       "3            1       5.74  \n",
       "4            1       5.63  \n",
       "...        ...        ...  \n",
       "31660        4       5.90  \n",
       "31661        4       5.86  \n",
       "31662        4       5.62  \n",
       "31663        4       5.60  \n",
       "31664        4       5.60  \n",
       "\n",
       "[31665 rows x 11 columns]"
      ]
     },
     "execution_count": 12,
     "metadata": {},
     "output_type": "execute_result"
    }
   ],
   "source": [
    "final"
   ]
  },
  {
   "cell_type": "code",
   "execution_count": 21,
   "id": "399e109a-7550-47bd-8c2f-810f3c3d15b6",
   "metadata": {
    "tags": []
   },
   "outputs": [
    {
     "name": "stdout",
     "output_type": "stream",
     "text": [
      "CSV file created successfully.\n"
     ]
    }
   ],
   "source": [
    "try:\n",
    "    df.to_csv('crime_cleaned.csv', index=False)\n",
    "    print(\"CSV file created successfully.\")\n",
    "except Exception as e:\n",
    "    print(\"Error:\", e)\n"
   ]
  },
  {
   "cell_type": "code",
   "execution_count": null,
   "id": "7d4fdf92-0904-4e6e-b650-24ed145b1279",
   "metadata": {},
   "outputs": [],
   "source": [
    "final.to_csv('listing_cleaned.csv', index=False)"
   ]
  },
  {
   "cell_type": "markdown",
   "id": "2d0ebbc2-5b99-4a41-810b-8ca88faf2f3f",
   "metadata": {},
   "source": [
    "## Normalization to fit our EER"
   ]
  },
  {
   "cell_type": "code",
   "execution_count": null,
   "id": "857bdb15-a2da-447a-87fc-71c77775c3ae",
   "metadata": {
    "tags": []
   },
   "outputs": [],
   "source": [
    "columns_to_drop = ['ID']\n",
    "final = final.drop(columns=columns_to_drop)"
   ]
  },
  {
   "cell_type": "code",
   "execution_count": null,
   "id": "8a82c141-dbb0-4421-9bca-bfb0c33659fd",
   "metadata": {
    "tags": []
   },
   "outputs": [],
   "source": [
    "final"
   ]
  }
 ],
 "metadata": {
  "kernelspec": {
   "display_name": "Python 3 (ipykernel)",
   "language": "python",
   "name": "python3"
  },
  "language_info": {
   "codemirror_mode": {
    "name": "ipython",
    "version": 3
   },
   "file_extension": ".py",
   "mimetype": "text/x-python",
   "name": "python",
   "nbconvert_exporter": "python",
   "pygments_lexer": "ipython3",
   "version": "3.11.4"
  }
 },
 "nbformat": 4,
 "nbformat_minor": 5
}

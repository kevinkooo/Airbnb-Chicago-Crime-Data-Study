{
 "cells": [
  {
   "cell_type": "markdown",
   "id": "653c224d-87da-4519-ac62-a309c0e068e1",
   "metadata": {},
   "source": [
    "## DE Final Project Transformation"
   ]
  },
  {
   "cell_type": "code",
   "execution_count": 1,
   "id": "e9c4b5ff-08a3-4277-bcb5-57222bf1335c",
   "metadata": {
    "tags": []
   },
   "outputs": [],
   "source": [
    "import pandas as pd"
   ]
  },
  {
   "cell_type": "code",
   "execution_count": 2,
   "id": "8dbd4cea-d29b-4a18-a2bd-88cc82b5861b",
   "metadata": {
    "tags": []
   },
   "outputs": [],
   "source": [
    "cleaned_data = pd.read_csv('/Users/kevinko/Desktop/Uchicago/Data engineering platform/Final Project/Crimes_-_2001_to_Present_20231106.csv')"
   ]
  },
  {
   "cell_type": "code",
   "execution_count": 3,
   "id": "a6fae954-2c20-4441-b33c-3e53b2d1fd66",
   "metadata": {
    "tags": []
   },
   "outputs": [],
   "source": [
    "cleaned_data = cleaned_data.dropna()"
   ]
  },
  {
   "cell_type": "code",
   "execution_count": 4,
   "id": "a335fba3-7dbc-4715-8786-47a86e9f4094",
   "metadata": {
    "tags": []
   },
   "outputs": [
    {
     "data": {
      "text/html": [
       "<div>\n",
       "<style scoped>\n",
       "    .dataframe tbody tr th:only-of-type {\n",
       "        vertical-align: middle;\n",
       "    }\n",
       "\n",
       "    .dataframe tbody tr th {\n",
       "        vertical-align: top;\n",
       "    }\n",
       "\n",
       "    .dataframe thead th {\n",
       "        text-align: right;\n",
       "    }\n",
       "</style>\n",
       "<table border=\"1\" class=\"dataframe\">\n",
       "  <thead>\n",
       "    <tr style=\"text-align: right;\">\n",
       "      <th></th>\n",
       "      <th>ID</th>\n",
       "      <th>Case Number</th>\n",
       "      <th>Date</th>\n",
       "      <th>Block</th>\n",
       "      <th>IUCR</th>\n",
       "      <th>Primary Type</th>\n",
       "      <th>Description</th>\n",
       "      <th>Location Description</th>\n",
       "      <th>Arrest</th>\n",
       "      <th>Domestic</th>\n",
       "      <th>...</th>\n",
       "      <th>Ward</th>\n",
       "      <th>Community Area</th>\n",
       "      <th>FBI Code</th>\n",
       "      <th>X Coordinate</th>\n",
       "      <th>Y Coordinate</th>\n",
       "      <th>Year</th>\n",
       "      <th>Updated On</th>\n",
       "      <th>Latitude</th>\n",
       "      <th>Longitude</th>\n",
       "      <th>Location</th>\n",
       "    </tr>\n",
       "  </thead>\n",
       "  <tbody>\n",
       "    <tr>\n",
       "      <th>1</th>\n",
       "      <td>12876758</td>\n",
       "      <td>JF455497</td>\n",
       "      <td>10/30/2022 12:00:00 AM</td>\n",
       "      <td>009XX W AINSLIE ST</td>\n",
       "      <td>0486</td>\n",
       "      <td>BATTERY</td>\n",
       "      <td>DOMESTIC BATTERY SIMPLE</td>\n",
       "      <td>APARTMENT</td>\n",
       "      <td>False</td>\n",
       "      <td>True</td>\n",
       "      <td>...</td>\n",
       "      <td>48.0</td>\n",
       "      <td>3</td>\n",
       "      <td>08B</td>\n",
       "      <td>1169277.0</td>\n",
       "      <td>1932978.0</td>\n",
       "      <td>2022</td>\n",
       "      <td>01/03/2023 03:40:27 PM</td>\n",
       "      <td>41.971606</td>\n",
       "      <td>-87.652922</td>\n",
       "      <td>(41.971606371, -87.652922494)</td>\n",
       "    </tr>\n",
       "    <tr>\n",
       "      <th>2</th>\n",
       "      <td>12876833</td>\n",
       "      <td>JF455538</td>\n",
       "      <td>10/30/2022 12:00:00 AM</td>\n",
       "      <td>015XX W TOUHY AVE</td>\n",
       "      <td>0810</td>\n",
       "      <td>THEFT</td>\n",
       "      <td>OVER $500</td>\n",
       "      <td>RESIDENCE</td>\n",
       "      <td>False</td>\n",
       "      <td>False</td>\n",
       "      <td>...</td>\n",
       "      <td>49.0</td>\n",
       "      <td>1</td>\n",
       "      <td>06</td>\n",
       "      <td>1164815.0</td>\n",
       "      <td>1947933.0</td>\n",
       "      <td>2022</td>\n",
       "      <td>01/03/2023 03:40:27 PM</td>\n",
       "      <td>42.012739</td>\n",
       "      <td>-87.668903</td>\n",
       "      <td>(42.012739369, -87.668903131)</td>\n",
       "    </tr>\n",
       "    <tr>\n",
       "      <th>3</th>\n",
       "      <td>12877365</td>\n",
       "      <td>JF456193</td>\n",
       "      <td>10/30/2022 12:00:00 AM</td>\n",
       "      <td>082XX S LOOMIS BLVD</td>\n",
       "      <td>1320</td>\n",
       "      <td>CRIMINAL DAMAGE</td>\n",
       "      <td>TO VEHICLE</td>\n",
       "      <td>RESIDENCE</td>\n",
       "      <td>False</td>\n",
       "      <td>False</td>\n",
       "      <td>...</td>\n",
       "      <td>21.0</td>\n",
       "      <td>71</td>\n",
       "      <td>14</td>\n",
       "      <td>1168432.0</td>\n",
       "      <td>1850118.0</td>\n",
       "      <td>2022</td>\n",
       "      <td>01/03/2023 03:40:27 PM</td>\n",
       "      <td>41.744250</td>\n",
       "      <td>-87.658425</td>\n",
       "      <td>(41.744249861, -87.658424658)</td>\n",
       "    </tr>\n",
       "    <tr>\n",
       "      <th>4</th>\n",
       "      <td>12877003</td>\n",
       "      <td>JF455219</td>\n",
       "      <td>10/30/2022 12:00:00 AM</td>\n",
       "      <td>046XX S VINCENNES AVE</td>\n",
       "      <td>0810</td>\n",
       "      <td>THEFT</td>\n",
       "      <td>OVER $500</td>\n",
       "      <td>STREET</td>\n",
       "      <td>False</td>\n",
       "      <td>False</td>\n",
       "      <td>...</td>\n",
       "      <td>3.0</td>\n",
       "      <td>38</td>\n",
       "      <td>06</td>\n",
       "      <td>1180399.0</td>\n",
       "      <td>1874190.0</td>\n",
       "      <td>2022</td>\n",
       "      <td>01/03/2023 03:40:27 PM</td>\n",
       "      <td>41.810040</td>\n",
       "      <td>-87.613839</td>\n",
       "      <td>(41.810039876, -87.613838562)</td>\n",
       "    </tr>\n",
       "    <tr>\n",
       "      <th>5</th>\n",
       "      <td>12877755</td>\n",
       "      <td>JF456610</td>\n",
       "      <td>10/30/2022 12:00:00 AM</td>\n",
       "      <td>012XX S MICHIGAN AVE</td>\n",
       "      <td>0810</td>\n",
       "      <td>THEFT</td>\n",
       "      <td>OVER $500</td>\n",
       "      <td>PARKING LOT / GARAGE (NON RESIDENTIAL)</td>\n",
       "      <td>False</td>\n",
       "      <td>False</td>\n",
       "      <td>...</td>\n",
       "      <td>3.0</td>\n",
       "      <td>33</td>\n",
       "      <td>06</td>\n",
       "      <td>1177419.0</td>\n",
       "      <td>1894900.0</td>\n",
       "      <td>2022</td>\n",
       "      <td>01/03/2023 03:40:27 PM</td>\n",
       "      <td>41.866938</td>\n",
       "      <td>-87.624142</td>\n",
       "      <td>(41.866937617, -87.624141504)</td>\n",
       "    </tr>\n",
       "  </tbody>\n",
       "</table>\n",
       "<p>5 rows × 22 columns</p>\n",
       "</div>"
      ],
      "text/plain": [
       "         ID Case Number                    Date                  Block  IUCR  \\\n",
       "1  12876758    JF455497  10/30/2022 12:00:00 AM     009XX W AINSLIE ST  0486   \n",
       "2  12876833    JF455538  10/30/2022 12:00:00 AM      015XX W TOUHY AVE  0810   \n",
       "3  12877365    JF456193  10/30/2022 12:00:00 AM    082XX S LOOMIS BLVD  1320   \n",
       "4  12877003    JF455219  10/30/2022 12:00:00 AM  046XX S VINCENNES AVE  0810   \n",
       "5  12877755    JF456610  10/30/2022 12:00:00 AM   012XX S MICHIGAN AVE  0810   \n",
       "\n",
       "      Primary Type              Description  \\\n",
       "1          BATTERY  DOMESTIC BATTERY SIMPLE   \n",
       "2            THEFT                OVER $500   \n",
       "3  CRIMINAL DAMAGE               TO VEHICLE   \n",
       "4            THEFT                OVER $500   \n",
       "5            THEFT                OVER $500   \n",
       "\n",
       "                     Location Description  Arrest  Domestic  ...  Ward  \\\n",
       "1                               APARTMENT   False      True  ...  48.0   \n",
       "2                               RESIDENCE   False     False  ...  49.0   \n",
       "3                               RESIDENCE   False     False  ...  21.0   \n",
       "4                                  STREET   False     False  ...   3.0   \n",
       "5  PARKING LOT / GARAGE (NON RESIDENTIAL)   False     False  ...   3.0   \n",
       "\n",
       "   Community Area  FBI Code  X Coordinate Y Coordinate  Year  \\\n",
       "1               3       08B     1169277.0    1932978.0  2022   \n",
       "2               1        06     1164815.0    1947933.0  2022   \n",
       "3              71        14     1168432.0    1850118.0  2022   \n",
       "4              38        06     1180399.0    1874190.0  2022   \n",
       "5              33        06     1177419.0    1894900.0  2022   \n",
       "\n",
       "               Updated On   Latitude  Longitude                       Location  \n",
       "1  01/03/2023 03:40:27 PM  41.971606 -87.652922  (41.971606371, -87.652922494)  \n",
       "2  01/03/2023 03:40:27 PM  42.012739 -87.668903  (42.012739369, -87.668903131)  \n",
       "3  01/03/2023 03:40:27 PM  41.744250 -87.658425  (41.744249861, -87.658424658)  \n",
       "4  01/03/2023 03:40:27 PM  41.810040 -87.613839  (41.810039876, -87.613838562)  \n",
       "5  01/03/2023 03:40:27 PM  41.866938 -87.624142  (41.866937617, -87.624141504)  \n",
       "\n",
       "[5 rows x 22 columns]"
      ]
     },
     "execution_count": 4,
     "metadata": {},
     "output_type": "execute_result"
    }
   ],
   "source": [
    "cleaned_data.head()"
   ]
  },
  {
   "cell_type": "markdown",
   "id": "0f0a8d7e-3a49-47f7-ac31-bbbe5478e980",
   "metadata": {},
   "source": [
    "## Cleaning the unnecessary columns "
   ]
  },
  {
   "cell_type": "code",
   "execution_count": 5,
   "id": "c7046bfd-4c34-49a5-b7ba-318fbf20d728",
   "metadata": {
    "tags": []
   },
   "outputs": [
    {
     "data": {
      "text/plain": [
       "Index(['ID', 'Case Number', 'Date', 'Block', 'IUCR', 'Primary Type',\n",
       "       'Description', 'Location Description', 'Arrest', 'Domestic', 'Beat',\n",
       "       'District', 'Ward', 'Community Area', 'FBI Code', 'X Coordinate',\n",
       "       'Y Coordinate', 'Year', 'Updated On', 'Latitude', 'Longitude',\n",
       "       'Location'],\n",
       "      dtype='object')"
      ]
     },
     "execution_count": 5,
     "metadata": {},
     "output_type": "execute_result"
    }
   ],
   "source": [
    "cleaned_data.columns"
   ]
  },
  {
   "cell_type": "code",
   "execution_count": 6,
   "id": "25b29853-9a78-41dd-a13d-215c66c776a0",
   "metadata": {
    "tags": []
   },
   "outputs": [],
   "source": [
    "columns_to_drop = ['Case Number', 'Block', 'IUCR',\n",
    "       'Description', 'Location Description', 'Arrest', 'Domestic', 'Beat', 'FBI Code', 'X Coordinate',\n",
    "       'Y Coordinate', 'Year', 'Updated On', 'Latitude', 'Longitude',\n",
    "       'Location']"
   ]
  },
  {
   "cell_type": "code",
   "execution_count": 7,
   "id": "59097abc-9909-416b-a197-ebfebd00ae8d",
   "metadata": {
    "tags": []
   },
   "outputs": [],
   "source": [
    "cleaned_data = cleaned_data.drop(columns=columns_to_drop)"
   ]
  },
  {
   "cell_type": "code",
   "execution_count": 8,
   "id": "8fe18c2d-4a0d-4623-86d3-900f9748b3db",
   "metadata": {
    "tags": []
   },
   "outputs": [
    {
     "data": {
      "text/html": [
       "<div>\n",
       "<style scoped>\n",
       "    .dataframe tbody tr th:only-of-type {\n",
       "        vertical-align: middle;\n",
       "    }\n",
       "\n",
       "    .dataframe tbody tr th {\n",
       "        vertical-align: top;\n",
       "    }\n",
       "\n",
       "    .dataframe thead th {\n",
       "        text-align: right;\n",
       "    }\n",
       "</style>\n",
       "<table border=\"1\" class=\"dataframe\">\n",
       "  <thead>\n",
       "    <tr style=\"text-align: right;\">\n",
       "      <th></th>\n",
       "      <th>ID</th>\n",
       "      <th>Date</th>\n",
       "      <th>Primary Type</th>\n",
       "      <th>District</th>\n",
       "      <th>Ward</th>\n",
       "      <th>Community Area</th>\n",
       "    </tr>\n",
       "  </thead>\n",
       "  <tbody>\n",
       "    <tr>\n",
       "      <th>1</th>\n",
       "      <td>12876758</td>\n",
       "      <td>10/30/2022 12:00:00 AM</td>\n",
       "      <td>BATTERY</td>\n",
       "      <td>20</td>\n",
       "      <td>48.0</td>\n",
       "      <td>3</td>\n",
       "    </tr>\n",
       "    <tr>\n",
       "      <th>2</th>\n",
       "      <td>12876833</td>\n",
       "      <td>10/30/2022 12:00:00 AM</td>\n",
       "      <td>THEFT</td>\n",
       "      <td>24</td>\n",
       "      <td>49.0</td>\n",
       "      <td>1</td>\n",
       "    </tr>\n",
       "    <tr>\n",
       "      <th>3</th>\n",
       "      <td>12877365</td>\n",
       "      <td>10/30/2022 12:00:00 AM</td>\n",
       "      <td>CRIMINAL DAMAGE</td>\n",
       "      <td>6</td>\n",
       "      <td>21.0</td>\n",
       "      <td>71</td>\n",
       "    </tr>\n",
       "    <tr>\n",
       "      <th>4</th>\n",
       "      <td>12877003</td>\n",
       "      <td>10/30/2022 12:00:00 AM</td>\n",
       "      <td>THEFT</td>\n",
       "      <td>2</td>\n",
       "      <td>3.0</td>\n",
       "      <td>38</td>\n",
       "    </tr>\n",
       "    <tr>\n",
       "      <th>5</th>\n",
       "      <td>12877755</td>\n",
       "      <td>10/30/2022 12:00:00 AM</td>\n",
       "      <td>THEFT</td>\n",
       "      <td>1</td>\n",
       "      <td>3.0</td>\n",
       "      <td>33</td>\n",
       "    </tr>\n",
       "    <tr>\n",
       "      <th>...</th>\n",
       "      <td>...</td>\n",
       "      <td>...</td>\n",
       "      <td>...</td>\n",
       "      <td>...</td>\n",
       "      <td>...</td>\n",
       "      <td>...</td>\n",
       "    </tr>\n",
       "    <tr>\n",
       "      <th>257334</th>\n",
       "      <td>13259485</td>\n",
       "      <td>10/29/2023 12:00:00 AM</td>\n",
       "      <td>BATTERY</td>\n",
       "      <td>10</td>\n",
       "      <td>22.0</td>\n",
       "      <td>30</td>\n",
       "    </tr>\n",
       "    <tr>\n",
       "      <th>257335</th>\n",
       "      <td>13260211</td>\n",
       "      <td>10/29/2023 12:00:00 AM</td>\n",
       "      <td>MOTOR VEHICLE THEFT</td>\n",
       "      <td>4</td>\n",
       "      <td>10.0</td>\n",
       "      <td>52</td>\n",
       "    </tr>\n",
       "    <tr>\n",
       "      <th>257336</th>\n",
       "      <td>13261862</td>\n",
       "      <td>10/29/2023 12:00:00 AM</td>\n",
       "      <td>OTHER OFFENSE</td>\n",
       "      <td>22</td>\n",
       "      <td>19.0</td>\n",
       "      <td>75</td>\n",
       "    </tr>\n",
       "    <tr>\n",
       "      <th>257338</th>\n",
       "      <td>13264695</td>\n",
       "      <td>10/29/2023 12:00:00 AM</td>\n",
       "      <td>DECEPTIVE PRACTICE</td>\n",
       "      <td>17</td>\n",
       "      <td>33.0</td>\n",
       "      <td>14</td>\n",
       "    </tr>\n",
       "    <tr>\n",
       "      <th>257339</th>\n",
       "      <td>13259776</td>\n",
       "      <td>10/29/2023 12:00:00 AM</td>\n",
       "      <td>BATTERY</td>\n",
       "      <td>18</td>\n",
       "      <td>32.0</td>\n",
       "      <td>7</td>\n",
       "    </tr>\n",
       "  </tbody>\n",
       "</table>\n",
       "<p>253842 rows × 6 columns</p>\n",
       "</div>"
      ],
      "text/plain": [
       "              ID                    Date         Primary Type  District  Ward  \\\n",
       "1       12876758  10/30/2022 12:00:00 AM              BATTERY        20  48.0   \n",
       "2       12876833  10/30/2022 12:00:00 AM                THEFT        24  49.0   \n",
       "3       12877365  10/30/2022 12:00:00 AM      CRIMINAL DAMAGE         6  21.0   \n",
       "4       12877003  10/30/2022 12:00:00 AM                THEFT         2   3.0   \n",
       "5       12877755  10/30/2022 12:00:00 AM                THEFT         1   3.0   \n",
       "...          ...                     ...                  ...       ...   ...   \n",
       "257334  13259485  10/29/2023 12:00:00 AM              BATTERY        10  22.0   \n",
       "257335  13260211  10/29/2023 12:00:00 AM  MOTOR VEHICLE THEFT         4  10.0   \n",
       "257336  13261862  10/29/2023 12:00:00 AM        OTHER OFFENSE        22  19.0   \n",
       "257338  13264695  10/29/2023 12:00:00 AM   DECEPTIVE PRACTICE        17  33.0   \n",
       "257339  13259776  10/29/2023 12:00:00 AM              BATTERY        18  32.0   \n",
       "\n",
       "        Community Area  \n",
       "1                    3  \n",
       "2                    1  \n",
       "3                   71  \n",
       "4                   38  \n",
       "5                   33  \n",
       "...                ...  \n",
       "257334              30  \n",
       "257335              52  \n",
       "257336              75  \n",
       "257338              14  \n",
       "257339               7  \n",
       "\n",
       "[253842 rows x 6 columns]"
      ]
     },
     "execution_count": 8,
     "metadata": {},
     "output_type": "execute_result"
    }
   ],
   "source": [
    "cleaned_data "
   ]
  },
  {
   "cell_type": "markdown",
   "id": "90e2b9e7-0ace-46a2-8f1a-289e83a517ab",
   "metadata": {
    "tags": []
   },
   "source": [
    "## Convert the date to quarter"
   ]
  },
  {
   "cell_type": "code",
   "execution_count": 9,
   "id": "b12e28f2-e3da-4385-a8c5-1020fac8c381",
   "metadata": {
    "tags": []
   },
   "outputs": [
    {
     "name": "stdout",
     "output_type": "stream",
     "text": [
      "              ID                Date                Primary Type  District  \\\n",
      "42214   12938772 2023-01-01 00:00:00     CRIMINAL SEXUAL ASSAULT         7   \n",
      "42215   13140855 2023-01-01 00:00:00  OFFENSE INVOLVING CHILDREN         4   \n",
      "42216   12976707 2023-01-01 00:00:00  OFFENSE INVOLVING CHILDREN        22   \n",
      "42217   13222722 2023-01-01 00:00:00                       THEFT        20   \n",
      "42218   13223672 2023-01-01 00:00:00          DECEPTIVE PRACTICE        12   \n",
      "...          ...                 ...                         ...       ...   \n",
      "102193  13027943 2023-03-31 23:41:00      PUBLIC PEACE VIOLATION        22   \n",
      "102194  13028102 2023-03-31 23:50:00      PUBLIC PEACE VIOLATION        25   \n",
      "102195  13028092 2023-03-31 23:50:00           WEAPONS VIOLATION         6   \n",
      "102196  13028017 2023-03-31 23:54:00                       THEFT         1   \n",
      "102197  13028289 2023-03-31 23:56:00          DECEPTIVE PRACTICE         2   \n",
      "\n",
      "        Ward  Community Area  year  quarter  \n",
      "42214   17.0              68  2023        1  \n",
      "42215    8.0              46  2023        1  \n",
      "42216   21.0              49  2023        1  \n",
      "42217   48.0              77  2023        1  \n",
      "42218   27.0              28  2023        1  \n",
      "...      ...             ...   ...      ...  \n",
      "102193  21.0              71  2023        1  \n",
      "102194  31.0              19  2023        1  \n",
      "102195  17.0              71  2023        1  \n",
      "102196  42.0              32  2023        1  \n",
      "102197   3.0              38  2023        1  \n",
      "\n",
      "[59647 rows x 8 columns]\n"
     ]
    }
   ],
   "source": [
    "import pandas as pd\n",
    "\n",
    "# Convert 'Date' column to datetime format\n",
    "cleaned_data['Date'] = pd.to_datetime(cleaned_data['Date'])\n",
    "\n",
    "# Create 'year' column\n",
    "cleaned_data['year'] = cleaned_data['Date'].dt.year\n",
    "\n",
    "# Create 'quarter' column\n",
    "cleaned_data['quarter'] = cleaned_data['Date'].dt.quarter\n",
    "\n",
    "print(cleaned_data[cleaned_data['quarter']==1])"
   ]
  },
  {
   "cell_type": "code",
   "execution_count": 99,
   "id": "e43871cf-78f6-499a-a001-b940e85d1f32",
   "metadata": {
    "tags": []
   },
   "outputs": [
    {
     "data": {
      "text/html": [
       "<div>\n",
       "<style scoped>\n",
       "    .dataframe tbody tr th:only-of-type {\n",
       "        vertical-align: middle;\n",
       "    }\n",
       "\n",
       "    .dataframe tbody tr th {\n",
       "        vertical-align: top;\n",
       "    }\n",
       "\n",
       "    .dataframe thead th {\n",
       "        text-align: right;\n",
       "    }\n",
       "</style>\n",
       "<table border=\"1\" class=\"dataframe\">\n",
       "  <thead>\n",
       "    <tr style=\"text-align: right;\">\n",
       "      <th></th>\n",
       "      <th>ID</th>\n",
       "      <th>Date</th>\n",
       "      <th>Primary Type</th>\n",
       "      <th>District</th>\n",
       "      <th>Ward</th>\n",
       "      <th>Community Area</th>\n",
       "      <th>year</th>\n",
       "      <th>quarter</th>\n",
       "    </tr>\n",
       "  </thead>\n",
       "  <tbody>\n",
       "    <tr>\n",
       "      <th>1</th>\n",
       "      <td>12876758</td>\n",
       "      <td>2022-10-30</td>\n",
       "      <td>BATTERY</td>\n",
       "      <td>20</td>\n",
       "      <td>48.0</td>\n",
       "      <td>3</td>\n",
       "      <td>2022</td>\n",
       "      <td>4</td>\n",
       "    </tr>\n",
       "    <tr>\n",
       "      <th>2</th>\n",
       "      <td>12876833</td>\n",
       "      <td>2022-10-30</td>\n",
       "      <td>THEFT</td>\n",
       "      <td>24</td>\n",
       "      <td>49.0</td>\n",
       "      <td>1</td>\n",
       "      <td>2022</td>\n",
       "      <td>4</td>\n",
       "    </tr>\n",
       "    <tr>\n",
       "      <th>3</th>\n",
       "      <td>12877365</td>\n",
       "      <td>2022-10-30</td>\n",
       "      <td>CRIMINAL DAMAGE</td>\n",
       "      <td>6</td>\n",
       "      <td>21.0</td>\n",
       "      <td>71</td>\n",
       "      <td>2022</td>\n",
       "      <td>4</td>\n",
       "    </tr>\n",
       "    <tr>\n",
       "      <th>4</th>\n",
       "      <td>12877003</td>\n",
       "      <td>2022-10-30</td>\n",
       "      <td>THEFT</td>\n",
       "      <td>2</td>\n",
       "      <td>3.0</td>\n",
       "      <td>38</td>\n",
       "      <td>2022</td>\n",
       "      <td>4</td>\n",
       "    </tr>\n",
       "    <tr>\n",
       "      <th>5</th>\n",
       "      <td>12877755</td>\n",
       "      <td>2022-10-30</td>\n",
       "      <td>THEFT</td>\n",
       "      <td>1</td>\n",
       "      <td>3.0</td>\n",
       "      <td>33</td>\n",
       "      <td>2022</td>\n",
       "      <td>4</td>\n",
       "    </tr>\n",
       "    <tr>\n",
       "      <th>...</th>\n",
       "      <td>...</td>\n",
       "      <td>...</td>\n",
       "      <td>...</td>\n",
       "      <td>...</td>\n",
       "      <td>...</td>\n",
       "      <td>...</td>\n",
       "      <td>...</td>\n",
       "      <td>...</td>\n",
       "    </tr>\n",
       "    <tr>\n",
       "      <th>257334</th>\n",
       "      <td>13259485</td>\n",
       "      <td>2023-10-29</td>\n",
       "      <td>BATTERY</td>\n",
       "      <td>10</td>\n",
       "      <td>22.0</td>\n",
       "      <td>30</td>\n",
       "      <td>2023</td>\n",
       "      <td>4</td>\n",
       "    </tr>\n",
       "    <tr>\n",
       "      <th>257335</th>\n",
       "      <td>13260211</td>\n",
       "      <td>2023-10-29</td>\n",
       "      <td>MOTOR VEHICLE THEFT</td>\n",
       "      <td>4</td>\n",
       "      <td>10.0</td>\n",
       "      <td>52</td>\n",
       "      <td>2023</td>\n",
       "      <td>4</td>\n",
       "    </tr>\n",
       "    <tr>\n",
       "      <th>257336</th>\n",
       "      <td>13261862</td>\n",
       "      <td>2023-10-29</td>\n",
       "      <td>OTHER OFFENSE</td>\n",
       "      <td>22</td>\n",
       "      <td>19.0</td>\n",
       "      <td>75</td>\n",
       "      <td>2023</td>\n",
       "      <td>4</td>\n",
       "    </tr>\n",
       "    <tr>\n",
       "      <th>257338</th>\n",
       "      <td>13264695</td>\n",
       "      <td>2023-10-29</td>\n",
       "      <td>DECEPTIVE PRACTICE</td>\n",
       "      <td>17</td>\n",
       "      <td>33.0</td>\n",
       "      <td>14</td>\n",
       "      <td>2023</td>\n",
       "      <td>4</td>\n",
       "    </tr>\n",
       "    <tr>\n",
       "      <th>257339</th>\n",
       "      <td>13259776</td>\n",
       "      <td>2023-10-29</td>\n",
       "      <td>BATTERY</td>\n",
       "      <td>18</td>\n",
       "      <td>32.0</td>\n",
       "      <td>7</td>\n",
       "      <td>2023</td>\n",
       "      <td>4</td>\n",
       "    </tr>\n",
       "  </tbody>\n",
       "</table>\n",
       "<p>253842 rows × 8 columns</p>\n",
       "</div>"
      ],
      "text/plain": [
       "              ID       Date         Primary Type  District  Ward  \\\n",
       "1       12876758 2022-10-30              BATTERY        20  48.0   \n",
       "2       12876833 2022-10-30                THEFT        24  49.0   \n",
       "3       12877365 2022-10-30      CRIMINAL DAMAGE         6  21.0   \n",
       "4       12877003 2022-10-30                THEFT         2   3.0   \n",
       "5       12877755 2022-10-30                THEFT         1   3.0   \n",
       "...          ...        ...                  ...       ...   ...   \n",
       "257334  13259485 2023-10-29              BATTERY        10  22.0   \n",
       "257335  13260211 2023-10-29  MOTOR VEHICLE THEFT         4  10.0   \n",
       "257336  13261862 2023-10-29        OTHER OFFENSE        22  19.0   \n",
       "257338  13264695 2023-10-29   DECEPTIVE PRACTICE        17  33.0   \n",
       "257339  13259776 2023-10-29              BATTERY        18  32.0   \n",
       "\n",
       "        Community Area  year  quarter  \n",
       "1                    3  2022        4  \n",
       "2                    1  2022        4  \n",
       "3                   71  2022        4  \n",
       "4                   38  2022        4  \n",
       "5                   33  2022        4  \n",
       "...                ...   ...      ...  \n",
       "257334              30  2023        4  \n",
       "257335              52  2023        4  \n",
       "257336              75  2023        4  \n",
       "257338              14  2023        4  \n",
       "257339               7  2023        4  \n",
       "\n",
       "[253842 rows x 8 columns]"
      ]
     },
     "execution_count": 99,
     "metadata": {},
     "output_type": "execute_result"
    }
   ],
   "source": [
    "cleaned_data"
   ]
  },
  {
   "cell_type": "markdown",
   "id": "e838c979-2d8e-4a5b-9943-5d17fa22e923",
   "metadata": {
    "tags": []
   },
   "source": [
    "## Convernt community area into neighborhood\n"
   ]
  },
  {
   "cell_type": "code",
   "execution_count": 11,
   "id": "f3f65876-2b68-4d4c-a6ff-268634d09bc4",
   "metadata": {
    "tags": []
   },
   "outputs": [],
   "source": [
    "community = pd.read_csv('/Users/kevinko/Desktop/Uchicago/Data engineering platform/Final Project/chicago_community_areas_transposed.csv')"
   ]
  },
  {
   "cell_type": "code",
   "execution_count": 12,
   "id": "5a35ebfd-24ca-4a35-91cc-f1c31348739a",
   "metadata": {
    "tags": []
   },
   "outputs": [
    {
     "data": {
      "text/html": [
       "<div>\n",
       "<style scoped>\n",
       "    .dataframe tbody tr th:only-of-type {\n",
       "        vertical-align: middle;\n",
       "    }\n",
       "\n",
       "    .dataframe tbody tr th {\n",
       "        vertical-align: top;\n",
       "    }\n",
       "\n",
       "    .dataframe thead th {\n",
       "        text-align: right;\n",
       "    }\n",
       "</style>\n",
       "<table border=\"1\" class=\"dataframe\">\n",
       "  <thead>\n",
       "    <tr style=\"text-align: right;\">\n",
       "      <th></th>\n",
       "      <th>community_area</th>\n",
       "      <th>name</th>\n",
       "    </tr>\n",
       "  </thead>\n",
       "  <tbody>\n",
       "    <tr>\n",
       "      <th>0</th>\n",
       "      <td>1</td>\n",
       "      <td>Rogers Park</td>\n",
       "    </tr>\n",
       "    <tr>\n",
       "      <th>1</th>\n",
       "      <td>2</td>\n",
       "      <td>West Ridge</td>\n",
       "    </tr>\n",
       "    <tr>\n",
       "      <th>2</th>\n",
       "      <td>3</td>\n",
       "      <td>Uptown</td>\n",
       "    </tr>\n",
       "    <tr>\n",
       "      <th>3</th>\n",
       "      <td>4</td>\n",
       "      <td>Lincoln Square</td>\n",
       "    </tr>\n",
       "    <tr>\n",
       "      <th>4</th>\n",
       "      <td>5</td>\n",
       "      <td>North Center</td>\n",
       "    </tr>\n",
       "  </tbody>\n",
       "</table>\n",
       "</div>"
      ],
      "text/plain": [
       "   community_area            name\n",
       "0               1     Rogers Park\n",
       "1               2      West Ridge\n",
       "2               3          Uptown\n",
       "3               4  Lincoln Square\n",
       "4               5    North Center"
      ]
     },
     "execution_count": 12,
     "metadata": {},
     "output_type": "execute_result"
    }
   ],
   "source": [
    "community.head()"
   ]
  },
  {
   "cell_type": "code",
   "execution_count": 13,
   "id": "ac883fb6-8ab8-4d79-9294-f3a0a03a5afc",
   "metadata": {
    "tags": []
   },
   "outputs": [
    {
     "name": "stdout",
     "output_type": "stream",
     "text": [
      "              ID       Date         Primary Type  District  Ward  \\\n",
      "0       12876758 2022-10-30              BATTERY        20  48.0   \n",
      "1       12876833 2022-10-30                THEFT        24  49.0   \n",
      "2       12877365 2022-10-30      CRIMINAL DAMAGE         6  21.0   \n",
      "3       12877003 2022-10-30                THEFT         2   3.0   \n",
      "4       12877755 2022-10-30                THEFT         1   3.0   \n",
      "...          ...        ...                  ...       ...   ...   \n",
      "253837  13259485 2023-10-29              BATTERY        10  22.0   \n",
      "253838  13260211 2023-10-29  MOTOR VEHICLE THEFT         4  10.0   \n",
      "253839  13261862 2023-10-29        OTHER OFFENSE        22  19.0   \n",
      "253840  13264695 2023-10-29   DECEPTIVE PRACTICE        17  33.0   \n",
      "253841  13259776 2023-10-29              BATTERY        18  32.0   \n",
      "\n",
      "        Community Area  year  quarter  community_area             name  \n",
      "0                    3  2022        4               3           Uptown  \n",
      "1                    1  2022        4               1      Rogers Park  \n",
      "2                   71  2022        4              71   Auburn Gresham  \n",
      "3                   38  2022        4              38  Grand Boulevard  \n",
      "4                   33  2022        4              33  Near South Side  \n",
      "...                ...   ...      ...             ...              ...  \n",
      "253837              30  2023        4              30   South Lawndale  \n",
      "253838              52  2023        4              52        East Side  \n",
      "253839              75  2023        4              75      Morgan Park  \n",
      "253840              14  2023        4              14      Albany Park  \n",
      "253841               7  2023        4               7     Lincoln Park  \n",
      "\n",
      "[253842 rows x 10 columns]\n"
     ]
    }
   ],
   "source": [
    "# Assuming 'cleaned_data' DataFrame has a column 'Community Area'\n",
    "# Assuming 'community' DataFrame has a column 'neighborhood_id'\n",
    "\n",
    "# Perform a merge based on the common columns\n",
    "merged_data = cleaned_data.merge(community, left_on='Community Area', right_on='community_area', how='left')\n",
    "\n",
    "# 'how' parameter determines the type of merge. Here 'left' ensures all rows from 'cleaned_data' are kept\n",
    "\n",
    "# Display the merged DataFrame\n",
    "print(merged_data)\n"
   ]
  },
  {
   "cell_type": "markdown",
   "id": "79f251c2-2b00-4f4d-9177-efabe01704da",
   "metadata": {},
   "source": [
    "## Convert Crime type to valid score"
   ]
  },
  {
   "cell_type": "code",
   "execution_count": 14,
   "id": "4997d094-aa75-47ec-9bc7-1d911705f227",
   "metadata": {
    "tags": []
   },
   "outputs": [],
   "source": [
    "crime = pd.read_excel('/Users/kevinko/Desktop/Uchicago/Data engineering platform/Final Project/Criminal type numerical scale_cleaned.xlsx')"
   ]
  },
  {
   "cell_type": "code",
   "execution_count": 15,
   "id": "c9570660-9a59-41dc-bb3c-0283abed33ae",
   "metadata": {
    "tags": []
   },
   "outputs": [
    {
     "data": {
      "text/plain": [
       "Index(['Primary Type', 'Score'], dtype='object')"
      ]
     },
     "execution_count": 15,
     "metadata": {},
     "output_type": "execute_result"
    }
   ],
   "source": [
    "crime.columns"
   ]
  },
  {
   "cell_type": "code",
   "execution_count": 16,
   "id": "e5501718-b125-4d0b-bcdc-8cbf7bfb7799",
   "metadata": {
    "tags": []
   },
   "outputs": [
    {
     "name": "stdout",
     "output_type": "stream",
     "text": [
      "              ID       Date         Primary Type  District  Ward  \\\n",
      "0       12876758 2022-10-30              BATTERY        20  48.0   \n",
      "1       12876833 2022-10-30                THEFT        24  49.0   \n",
      "2       12877365 2022-10-30      CRIMINAL DAMAGE         6  21.0   \n",
      "3       12877003 2022-10-30                THEFT         2   3.0   \n",
      "4       12877755 2022-10-30                THEFT         1   3.0   \n",
      "...          ...        ...                  ...       ...   ...   \n",
      "253837  13259485 2023-10-29              BATTERY        10  22.0   \n",
      "253838  13260211 2023-10-29  MOTOR VEHICLE THEFT         4  10.0   \n",
      "253839  13261862 2023-10-29        OTHER OFFENSE        22  19.0   \n",
      "253840  13264695 2023-10-29   DECEPTIVE PRACTICE        17  33.0   \n",
      "253841  13259776 2023-10-29              BATTERY        18  32.0   \n",
      "\n",
      "        Community Area  year  quarter  community_area             name  Score  \n",
      "0                    3  2022        4               3           Uptown      7  \n",
      "1                    1  2022        4               1      Rogers Park      5  \n",
      "2                   71  2022        4              71   Auburn Gresham      8  \n",
      "3                   38  2022        4              38  Grand Boulevard      5  \n",
      "4                   33  2022        4              33  Near South Side      5  \n",
      "...                ...   ...      ...             ...              ...    ...  \n",
      "253837              30  2023        4              30   South Lawndale      7  \n",
      "253838              52  2023        4              52        East Side      5  \n",
      "253839              75  2023        4              75      Morgan Park      2  \n",
      "253840              14  2023        4              14      Albany Park      4  \n",
      "253841               7  2023        4               7     Lincoln Park      7  \n",
      "\n",
      "[253842 rows x 11 columns]\n"
     ]
    }
   ],
   "source": [
    "merged_data_2 = merged_data.merge(crime, left_on='Primary Type', right_on='Primary Type', how='left')\n",
    "\n",
    "\n",
    "# Display the merged DataFrame\n",
    "print(merged_data_2)\n"
   ]
  },
  {
   "cell_type": "code",
   "execution_count": 17,
   "id": "ac73d2ed-a735-4eb0-a52e-fd673d381764",
   "metadata": {
    "tags": []
   },
   "outputs": [
    {
     "data": {
      "text/plain": [
       "Index(['ID', 'Date', 'Primary Type', 'District', 'Ward', 'Community Area',\n",
       "       'year', 'quarter', 'community_area', 'name', 'Score'],\n",
       "      dtype='object')"
      ]
     },
     "execution_count": 17,
     "metadata": {},
     "output_type": "execute_result"
    }
   ],
   "source": [
    "merged_data_2.columns"
   ]
  },
  {
   "cell_type": "code",
   "execution_count": 18,
   "id": "7d4fede8-a5aa-4b17-8d7a-f4a8efa07b06",
   "metadata": {
    "tags": []
   },
   "outputs": [],
   "source": [
    "drop_column_2 = ['District', 'Ward', 'Community Area', 'community_area']"
   ]
  },
  {
   "cell_type": "code",
   "execution_count": 19,
   "id": "dc70bbd8-e851-4478-af9b-0b4ef1f7120e",
   "metadata": {
    "tags": []
   },
   "outputs": [],
   "source": [
    "cleaned_crime_data = merged_data_2.drop(columns=drop_column_2)"
   ]
  },
  {
   "cell_type": "markdown",
   "id": "6eb069f1-568a-4a41-8d8a-e7f5b3c130d7",
   "metadata": {},
   "source": [
    "## Rename name to neighbourhood"
   ]
  },
  {
   "cell_type": "code",
   "execution_count": 20,
   "id": "55ebed96-c193-405e-a12b-ca66c0e759f8",
   "metadata": {
    "tags": []
   },
   "outputs": [
    {
     "name": "stdout",
     "output_type": "stream",
     "text": [
      "     quarter  year            name  Score\n",
      "0          1  2023     Albany Park   5.88\n",
      "1          1  2023  Archer Heights   5.68\n",
      "2          1  2023   Armour Square   5.69\n",
      "3          1  2023         Ashburn   5.75\n",
      "4          1  2023  Auburn Gresham   5.89\n",
      "..       ...   ...             ...    ...\n",
      "380        4  2023       West Lawn   5.70\n",
      "381        4  2023    West Pullman   6.25\n",
      "382        4  2023      West Ridge   5.83\n",
      "383        4  2023       West Town   5.84\n",
      "384        4  2023        Woodlawn   6.12\n",
      "\n",
      "[385 rows x 4 columns]\n"
     ]
    }
   ],
   "source": [
    "average_scores = cleaned_crime_data.groupby(['quarter', 'year', 'name'])['Score'].mean().reset_index()\n",
    "\n",
    "print(average_scores.round(2))\n"
   ]
  },
  {
   "cell_type": "code",
   "execution_count": 21,
   "id": "f28949be-458a-4784-94d2-afd3dafc1edb",
   "metadata": {
    "tags": []
   },
   "outputs": [],
   "source": [
    "df = pd.merge(cleaned_crime_data, average_scores.round(2), on=['quarter', 'year', 'name'], how='left', suffixes=('', '_avg'))"
   ]
  },
  {
   "cell_type": "markdown",
   "id": "726d4475-e9d1-4bc1-ac2c-220404ee4ec5",
   "metadata": {},
   "source": [
    "renaming name to neighbourhood"
   ]
  },
  {
   "cell_type": "code",
   "execution_count": 22,
   "id": "328c454c-c202-47a8-a465-09ae40f3f308",
   "metadata": {
    "tags": []
   },
   "outputs": [],
   "source": [
    "df = df.rename(columns={'name': 'neighbourhood'})"
   ]
  },
  {
   "cell_type": "code",
   "execution_count": 23,
   "id": "efd26dd5-63af-41ca-95ca-3e343e7094c1",
   "metadata": {
    "tags": []
   },
   "outputs": [],
   "source": [
    "df.to_csv('cleaned_crime.csv', index=False)"
   ]
  },
  {
   "cell_type": "markdown",
   "id": "de7b3d42-4ca6-44b8-92ce-afc7d8c4bb8f",
   "metadata": {},
   "source": [
    "Airbnb Listing"
   ]
  },
  {
   "cell_type": "code",
   "execution_count": 24,
   "id": "5c4e1ea4-aaaf-4f78-918e-c220eba87972",
   "metadata": {
    "tags": []
   },
   "outputs": [],
   "source": [
    "listing = pd.read_csv('/Users/kevinko/Desktop/Uchicago/Data engineering platform/Final Project/listings.csv')"
   ]
  },
  {
   "cell_type": "code",
   "execution_count": 25,
   "id": "2e3fa536-448e-48c8-8707-5573595e830a",
   "metadata": {
    "tags": []
   },
   "outputs": [
    {
     "data": {
      "text/html": [
       "<div>\n",
       "<style scoped>\n",
       "    .dataframe tbody tr th:only-of-type {\n",
       "        vertical-align: middle;\n",
       "    }\n",
       "\n",
       "    .dataframe tbody tr th {\n",
       "        vertical-align: top;\n",
       "    }\n",
       "\n",
       "    .dataframe thead th {\n",
       "        text-align: right;\n",
       "    }\n",
       "</style>\n",
       "<table border=\"1\" class=\"dataframe\">\n",
       "  <thead>\n",
       "    <tr style=\"text-align: right;\">\n",
       "      <th></th>\n",
       "      <th>id</th>\n",
       "      <th>name</th>\n",
       "      <th>host_id</th>\n",
       "      <th>host_name</th>\n",
       "      <th>neighbourhood_group</th>\n",
       "      <th>neighbourhood</th>\n",
       "      <th>latitude</th>\n",
       "      <th>longitude</th>\n",
       "      <th>room_type</th>\n",
       "      <th>price</th>\n",
       "      <th>minimum_nights</th>\n",
       "      <th>number_of_reviews</th>\n",
       "      <th>last_review</th>\n",
       "      <th>reviews_per_month</th>\n",
       "      <th>calculated_host_listings_count</th>\n",
       "      <th>availability_365</th>\n",
       "      <th>number_of_reviews_ltm</th>\n",
       "      <th>license</th>\n",
       "    </tr>\n",
       "  </thead>\n",
       "  <tbody>\n",
       "    <tr>\n",
       "      <th>0</th>\n",
       "      <td>2384</td>\n",
       "      <td>Condo in Chicago · ★4.99 · 1 bedroom · 1 bed ·...</td>\n",
       "      <td>2613</td>\n",
       "      <td>Rebecca</td>\n",
       "      <td>NaN</td>\n",
       "      <td>Hyde Park</td>\n",
       "      <td>41.787900</td>\n",
       "      <td>-87.587800</td>\n",
       "      <td>Private room</td>\n",
       "      <td>114</td>\n",
       "      <td>3</td>\n",
       "      <td>227</td>\n",
       "      <td>2023-09-03</td>\n",
       "      <td>2.15</td>\n",
       "      <td>1</td>\n",
       "      <td>322</td>\n",
       "      <td>20</td>\n",
       "      <td>R17000015609</td>\n",
       "    </tr>\n",
       "    <tr>\n",
       "      <th>1</th>\n",
       "      <td>7126</td>\n",
       "      <td>Rental unit in Chicago · ★4.70 · 1 bedroom · 1...</td>\n",
       "      <td>17928</td>\n",
       "      <td>Sarah</td>\n",
       "      <td>NaN</td>\n",
       "      <td>West Town</td>\n",
       "      <td>41.901660</td>\n",
       "      <td>-87.680210</td>\n",
       "      <td>Entire home/apt</td>\n",
       "      <td>92</td>\n",
       "      <td>32</td>\n",
       "      <td>505</td>\n",
       "      <td>2023-08-30</td>\n",
       "      <td>2.92</td>\n",
       "      <td>1</td>\n",
       "      <td>347</td>\n",
       "      <td>45</td>\n",
       "      <td>R21000075737</td>\n",
       "    </tr>\n",
       "    <tr>\n",
       "      <th>2</th>\n",
       "      <td>10945</td>\n",
       "      <td>Rental unit in Chicago · ★4.65 · 2 bedrooms · ...</td>\n",
       "      <td>33004</td>\n",
       "      <td>At Home Inn</td>\n",
       "      <td>NaN</td>\n",
       "      <td>Lincoln Park</td>\n",
       "      <td>41.911960</td>\n",
       "      <td>-87.639810</td>\n",
       "      <td>Entire home/apt</td>\n",
       "      <td>170</td>\n",
       "      <td>4</td>\n",
       "      <td>72</td>\n",
       "      <td>2023-08-29</td>\n",
       "      <td>0.63</td>\n",
       "      <td>7</td>\n",
       "      <td>146</td>\n",
       "      <td>16</td>\n",
       "      <td>2209984</td>\n",
       "    </tr>\n",
       "    <tr>\n",
       "      <th>3</th>\n",
       "      <td>12140</td>\n",
       "      <td>Boutique hotel in Chicago · ★4.93 · 1 bedroom ...</td>\n",
       "      <td>46734</td>\n",
       "      <td>Shay And Robert</td>\n",
       "      <td>NaN</td>\n",
       "      <td>Lincoln Park</td>\n",
       "      <td>41.923570</td>\n",
       "      <td>-87.649470</td>\n",
       "      <td>Private room</td>\n",
       "      <td>329</td>\n",
       "      <td>2</td>\n",
       "      <td>15</td>\n",
       "      <td>2023-05-21</td>\n",
       "      <td>0.15</td>\n",
       "      <td>1</td>\n",
       "      <td>165</td>\n",
       "      <td>3</td>\n",
       "      <td>R20000055258</td>\n",
       "    </tr>\n",
       "    <tr>\n",
       "      <th>4</th>\n",
       "      <td>24833</td>\n",
       "      <td>Rental unit in Chicago · ★4.29 · 1 bedroom · 1...</td>\n",
       "      <td>101521</td>\n",
       "      <td>Red</td>\n",
       "      <td>NaN</td>\n",
       "      <td>Lincoln Park</td>\n",
       "      <td>41.925961</td>\n",
       "      <td>-87.656364</td>\n",
       "      <td>Entire home/apt</td>\n",
       "      <td>61</td>\n",
       "      <td>32</td>\n",
       "      <td>42</td>\n",
       "      <td>2023-04-22</td>\n",
       "      <td>0.26</td>\n",
       "      <td>4</td>\n",
       "      <td>284</td>\n",
       "      <td>2</td>\n",
       "      <td>City registration pending</td>\n",
       "    </tr>\n",
       "  </tbody>\n",
       "</table>\n",
       "</div>"
      ],
      "text/plain": [
       "      id                                               name  host_id  \\\n",
       "0   2384  Condo in Chicago · ★4.99 · 1 bedroom · 1 bed ·...     2613   \n",
       "1   7126  Rental unit in Chicago · ★4.70 · 1 bedroom · 1...    17928   \n",
       "2  10945  Rental unit in Chicago · ★4.65 · 2 bedrooms · ...    33004   \n",
       "3  12140  Boutique hotel in Chicago · ★4.93 · 1 bedroom ...    46734   \n",
       "4  24833  Rental unit in Chicago · ★4.29 · 1 bedroom · 1...   101521   \n",
       "\n",
       "         host_name  neighbourhood_group neighbourhood   latitude  longitude  \\\n",
       "0          Rebecca                  NaN     Hyde Park  41.787900 -87.587800   \n",
       "1            Sarah                  NaN     West Town  41.901660 -87.680210   \n",
       "2      At Home Inn                  NaN  Lincoln Park  41.911960 -87.639810   \n",
       "3  Shay And Robert                  NaN  Lincoln Park  41.923570 -87.649470   \n",
       "4              Red                  NaN  Lincoln Park  41.925961 -87.656364   \n",
       "\n",
       "         room_type  price  minimum_nights  number_of_reviews last_review  \\\n",
       "0     Private room    114               3                227  2023-09-03   \n",
       "1  Entire home/apt     92              32                505  2023-08-30   \n",
       "2  Entire home/apt    170               4                 72  2023-08-29   \n",
       "3     Private room    329               2                 15  2023-05-21   \n",
       "4  Entire home/apt     61              32                 42  2023-04-22   \n",
       "\n",
       "   reviews_per_month  calculated_host_listings_count  availability_365  \\\n",
       "0               2.15                               1               322   \n",
       "1               2.92                               1               347   \n",
       "2               0.63                               7               146   \n",
       "3               0.15                               1               165   \n",
       "4               0.26                               4               284   \n",
       "\n",
       "   number_of_reviews_ltm                    license  \n",
       "0                     20               R17000015609  \n",
       "1                     45               R21000075737  \n",
       "2                     16                    2209984  \n",
       "3                      3               R20000055258  \n",
       "4                      2  City registration pending  "
      ]
     },
     "execution_count": 25,
     "metadata": {},
     "output_type": "execute_result"
    }
   ],
   "source": [
    "listing.head()"
   ]
  },
  {
   "cell_type": "code",
   "execution_count": 26,
   "id": "b36b60f1-e601-45f9-b9ad-c0c783a5cd83",
   "metadata": {
    "tags": []
   },
   "outputs": [
    {
     "name": "stdout",
     "output_type": "stream",
     "text": [
      "                      id                                               name  \\\n",
      "7                  37738  Home in Chicago · ★4.99 · 1 bedroom · 1 bed · ...   \n",
      "22                290155  Rental unit in Chicago · ★4.84 · 3 bedrooms · ...   \n",
      "23                312192  Rental unit in Chicago · ★4.74 · 2 bedrooms · ...   \n",
      "37                697634  Rental unit in Chicago · ★4.87 · 2 bedrooms · ...   \n",
      "41                790934  Rental unit in Chicago · ★4.66 · 1 bedroom · 1...   \n",
      "...                  ...                                                ...   \n",
      "6643  802996947331300153  Rental unit in Chicago · 1 bedroom · 1 bed · 1...   \n",
      "6651  804194515694924457  Rental unit in Chicago · 1 bedroom · 1 bed · 2...   \n",
      "6675  808108595377919122  Rental unit in Chicago · 6 bedrooms · 6 beds ·...   \n",
      "6967  843363792290207058  Home in Chicago · 1 bedroom · 1 bed · 1 shared...   \n",
      "7033  850920931817664712  Rental unit in Chicago · 1 bedroom · 1 bed · 1...   \n",
      "\n",
      "        host_id      host_name  neighbourhood_group    neighbourhood  \\\n",
      "7        162364  Mat And Randy                  NaN           Uptown   \n",
      "22      1505878            Bob                  NaN       Bridgeport   \n",
      "23      1505878            Bob                  NaN       Bridgeport   \n",
      "37      3574415           Marv                  NaN  Near North Side   \n",
      "41      2907254            Joe                  NaN       West Ridge   \n",
      "...         ...            ...                  ...              ...   \n",
      "6643   60325861   Erielle Anne                  NaN   Near West Side   \n",
      "6651  409108758         Matteo                  NaN   North Lawndale   \n",
      "6675  248760412         Cloud9                  NaN        West Town   \n",
      "6967    6617501        Langley                  NaN      South Shore   \n",
      "7033  502604839            Joe                  NaN   Near West Side   \n",
      "\n",
      "       latitude  longitude        room_type  price  ...  number_of_reviews  \\\n",
      "7     41.973030 -87.665670     Private room    110  ...                250   \n",
      "22    41.827120 -87.640460  Entire home/apt    130  ...                 50   \n",
      "23    41.827410 -87.639340  Entire home/apt    146  ...                 39   \n",
      "37    41.904370 -87.633500  Entire home/apt     99  ...                158   \n",
      "41    42.016530 -87.687880      Shared room    156  ...                139   \n",
      "...         ...        ...              ...    ...  ...                ...   \n",
      "6643  41.863280 -87.657660     Private room     40  ...                  1   \n",
      "6651  41.854392 -87.703165     Private room     36  ...                  1   \n",
      "6675  41.896177 -87.653260  Entire home/apt    703  ...                  1   \n",
      "6967  41.754449 -87.584905     Private room     29  ...                  1   \n",
      "7033  41.859926 -87.660284     Private room     51  ...                  1   \n",
      "\n",
      "      last_review reviews_per_month  calculated_host_listings_count  \\\n",
      "7      2020-03-15              1.56                               2   \n",
      "22     2020-03-17              0.35                               2   \n",
      "23     2020-03-15              0.36                               2   \n",
      "37     2023-03-27              1.27                               2   \n",
      "41     2020-02-03              1.06                              15   \n",
      "...           ...               ...                             ...   \n",
      "6643   2023-03-31              0.18                               1   \n",
      "6651   2023-02-13              0.14                               4   \n",
      "6675   2023-02-05              0.14                              50   \n",
      "6967   2023-03-11              0.16                              11   \n",
      "7033   2023-03-27              0.18                              11   \n",
      "\n",
      "      availability_365  number_of_reviews_ltm                    license  \\\n",
      "7                    0                      0               R20000059426   \n",
      "22                   0                      0                    2074659   \n",
      "23                   0                      0                    2074660   \n",
      "37                 195                      2  City registration pending   \n",
      "41                   0                      0               R21000075752   \n",
      "...                ...                    ...                        ...   \n",
      "6643               285                      1                        NaN   \n",
      "6651                 6                      1               R22000093612   \n",
      "6675               322                      1                    2867402   \n",
      "6967               180                      1               R19000048101   \n",
      "7033               365                      1               R22000068687   \n",
      "\n",
      "           Date    year  quarter  \n",
      "7    2020-03-15  2020.0      1.0  \n",
      "22   2020-03-17  2020.0      1.0  \n",
      "23   2020-03-15  2020.0      1.0  \n",
      "37   2023-03-27  2023.0      1.0  \n",
      "41   2020-02-03  2020.0      1.0  \n",
      "...         ...     ...      ...  \n",
      "6643 2023-03-31  2023.0      1.0  \n",
      "6651 2023-02-13  2023.0      1.0  \n",
      "6675 2023-02-05  2023.0      1.0  \n",
      "6967 2023-03-11  2023.0      1.0  \n",
      "7033 2023-03-27  2023.0      1.0  \n",
      "\n",
      "[348 rows x 21 columns]\n"
     ]
    }
   ],
   "source": [
    "import pandas as pd\n",
    "\n",
    "# Convert 'Date' column to datetime format\n",
    "listing['Date'] = pd.to_datetime(listing['last_review'])\n",
    "\n",
    "# Create 'year' column\n",
    "listing['year'] = listing['Date'].dt.year\n",
    "\n",
    "# Create 'quarter' column\n",
    "listing['quarter'] = listing['Date'].dt.quarter\n",
    "\n",
    "print(listing[listing['quarter']==1])\n"
   ]
  },
  {
   "cell_type": "code",
   "execution_count": 27,
   "id": "07106e69-bcbd-47ec-ac8d-173c3926a1e5",
   "metadata": {
    "tags": []
   },
   "outputs": [],
   "source": [
    "listing = listing.dropna(subset=['year', 'quarter'])\n",
    "\n",
    "listing['year'] = listing['year'].astype(int)\n",
    "listing['quarter'] = listing['quarter'].astype(int)"
   ]
  },
  {
   "cell_type": "code",
   "execution_count": 28,
   "id": "f28d1a63-fada-46e4-b506-989063d47e40",
   "metadata": {
    "tags": []
   },
   "outputs": [
    {
     "data": {
      "text/plain": [
       "Index(['id', 'name', 'host_id', 'host_name', 'neighbourhood_group',\n",
       "       'neighbourhood', 'latitude', 'longitude', 'room_type', 'price',\n",
       "       'minimum_nights', 'number_of_reviews', 'last_review',\n",
       "       'reviews_per_month', 'calculated_host_listings_count',\n",
       "       'availability_365', 'number_of_reviews_ltm', 'license', 'Date', 'year',\n",
       "       'quarter'],\n",
       "      dtype='object')"
      ]
     },
     "execution_count": 28,
     "metadata": {},
     "output_type": "execute_result"
    }
   ],
   "source": [
    "df.columns\n",
    "listing.columns"
   ]
  },
  {
   "cell_type": "code",
   "execution_count": 29,
   "id": "f3b82f9c-16fe-4560-adc9-ee294616a4df",
   "metadata": {
    "tags": []
   },
   "outputs": [],
   "source": [
    "final  = listing.merge(df, on=['year', 'quarter', 'neighbourhood'], how='left')\n"
   ]
  },
  {
   "cell_type": "code",
   "execution_count": 30,
   "id": "58758554-271f-42b6-9d80-b395127cb3a5",
   "metadata": {
    "tags": []
   },
   "outputs": [
    {
     "data": {
      "text/plain": [
       "Index(['id', 'name', 'host_id', 'host_name', 'neighbourhood_group',\n",
       "       'neighbourhood', 'latitude', 'longitude', 'room_type', 'price',\n",
       "       'minimum_nights', 'number_of_reviews', 'last_review',\n",
       "       'reviews_per_month', 'calculated_host_listings_count',\n",
       "       'availability_365', 'number_of_reviews_ltm', 'license', 'Date_x',\n",
       "       'year', 'quarter', 'ID', 'Date_y', 'Primary Type', 'Score',\n",
       "       'Score_avg'],\n",
       "      dtype='object')"
      ]
     },
     "execution_count": 30,
     "metadata": {},
     "output_type": "execute_result"
    }
   ],
   "source": [
    "final.columns"
   ]
  },
  {
   "cell_type": "code",
   "execution_count": 31,
   "id": "002f6646-88ae-4ba8-8b94-f1295fbc0610",
   "metadata": {
    "tags": []
   },
   "outputs": [
    {
     "data": {
      "text/html": [
       "<div>\n",
       "<style scoped>\n",
       "    .dataframe tbody tr th:only-of-type {\n",
       "        vertical-align: middle;\n",
       "    }\n",
       "\n",
       "    .dataframe tbody tr th {\n",
       "        vertical-align: top;\n",
       "    }\n",
       "\n",
       "    .dataframe thead th {\n",
       "        text-align: right;\n",
       "    }\n",
       "</style>\n",
       "<table border=\"1\" class=\"dataframe\">\n",
       "  <thead>\n",
       "    <tr style=\"text-align: right;\">\n",
       "      <th></th>\n",
       "      <th>id</th>\n",
       "      <th>name</th>\n",
       "      <th>host_id</th>\n",
       "      <th>host_name</th>\n",
       "      <th>neighbourhood_group</th>\n",
       "      <th>neighbourhood</th>\n",
       "      <th>latitude</th>\n",
       "      <th>longitude</th>\n",
       "      <th>room_type</th>\n",
       "      <th>price</th>\n",
       "      <th>...</th>\n",
       "      <th>number_of_reviews_ltm</th>\n",
       "      <th>license</th>\n",
       "      <th>Date_x</th>\n",
       "      <th>year</th>\n",
       "      <th>quarter</th>\n",
       "      <th>ID</th>\n",
       "      <th>Date_y</th>\n",
       "      <th>Primary Type</th>\n",
       "      <th>Score</th>\n",
       "      <th>Score_avg</th>\n",
       "    </tr>\n",
       "  </thead>\n",
       "  <tbody>\n",
       "    <tr>\n",
       "      <th>0</th>\n",
       "      <td>2384</td>\n",
       "      <td>Condo in Chicago · ★4.99 · 1 bedroom · 1 bed ·...</td>\n",
       "      <td>2613</td>\n",
       "      <td>Rebecca</td>\n",
       "      <td>NaN</td>\n",
       "      <td>Hyde Park</td>\n",
       "      <td>41.7879</td>\n",
       "      <td>-87.5878</td>\n",
       "      <td>Private room</td>\n",
       "      <td>114</td>\n",
       "      <td>...</td>\n",
       "      <td>20</td>\n",
       "      <td>R17000015609</td>\n",
       "      <td>2023-09-03</td>\n",
       "      <td>2023</td>\n",
       "      <td>3</td>\n",
       "      <td>13125573.0</td>\n",
       "      <td>2023-07-01 01:00:00</td>\n",
       "      <td>ROBBERY</td>\n",
       "      <td>6.0</td>\n",
       "      <td>5.72</td>\n",
       "    </tr>\n",
       "    <tr>\n",
       "      <th>1</th>\n",
       "      <td>2384</td>\n",
       "      <td>Condo in Chicago · ★4.99 · 1 bedroom · 1 bed ·...</td>\n",
       "      <td>2613</td>\n",
       "      <td>Rebecca</td>\n",
       "      <td>NaN</td>\n",
       "      <td>Hyde Park</td>\n",
       "      <td>41.7879</td>\n",
       "      <td>-87.5878</td>\n",
       "      <td>Private room</td>\n",
       "      <td>114</td>\n",
       "      <td>...</td>\n",
       "      <td>20</td>\n",
       "      <td>R17000015609</td>\n",
       "      <td>2023-09-03</td>\n",
       "      <td>2023</td>\n",
       "      <td>3</td>\n",
       "      <td>13129072.0</td>\n",
       "      <td>2023-07-01 01:00:00</td>\n",
       "      <td>THEFT</td>\n",
       "      <td>5.0</td>\n",
       "      <td>5.72</td>\n",
       "    </tr>\n",
       "    <tr>\n",
       "      <th>2</th>\n",
       "      <td>2384</td>\n",
       "      <td>Condo in Chicago · ★4.99 · 1 bedroom · 1 bed ·...</td>\n",
       "      <td>2613</td>\n",
       "      <td>Rebecca</td>\n",
       "      <td>NaN</td>\n",
       "      <td>Hyde Park</td>\n",
       "      <td>41.7879</td>\n",
       "      <td>-87.5878</td>\n",
       "      <td>Private room</td>\n",
       "      <td>114</td>\n",
       "      <td>...</td>\n",
       "      <td>20</td>\n",
       "      <td>R17000015609</td>\n",
       "      <td>2023-09-03</td>\n",
       "      <td>2023</td>\n",
       "      <td>3</td>\n",
       "      <td>13125564.0</td>\n",
       "      <td>2023-07-01 01:05:00</td>\n",
       "      <td>BATTERY</td>\n",
       "      <td>7.0</td>\n",
       "      <td>5.72</td>\n",
       "    </tr>\n",
       "    <tr>\n",
       "      <th>3</th>\n",
       "      <td>2384</td>\n",
       "      <td>Condo in Chicago · ★4.99 · 1 bedroom · 1 bed ·...</td>\n",
       "      <td>2613</td>\n",
       "      <td>Rebecca</td>\n",
       "      <td>NaN</td>\n",
       "      <td>Hyde Park</td>\n",
       "      <td>41.7879</td>\n",
       "      <td>-87.5878</td>\n",
       "      <td>Private room</td>\n",
       "      <td>114</td>\n",
       "      <td>...</td>\n",
       "      <td>20</td>\n",
       "      <td>R17000015609</td>\n",
       "      <td>2023-09-03</td>\n",
       "      <td>2023</td>\n",
       "      <td>3</td>\n",
       "      <td>13125701.0</td>\n",
       "      <td>2023-07-01 01:45:00</td>\n",
       "      <td>ROBBERY</td>\n",
       "      <td>6.0</td>\n",
       "      <td>5.72</td>\n",
       "    </tr>\n",
       "    <tr>\n",
       "      <th>4</th>\n",
       "      <td>2384</td>\n",
       "      <td>Condo in Chicago · ★4.99 · 1 bedroom · 1 bed ·...</td>\n",
       "      <td>2613</td>\n",
       "      <td>Rebecca</td>\n",
       "      <td>NaN</td>\n",
       "      <td>Hyde Park</td>\n",
       "      <td>41.7879</td>\n",
       "      <td>-87.5878</td>\n",
       "      <td>Private room</td>\n",
       "      <td>114</td>\n",
       "      <td>...</td>\n",
       "      <td>20</td>\n",
       "      <td>R17000015609</td>\n",
       "      <td>2023-09-03</td>\n",
       "      <td>2023</td>\n",
       "      <td>3</td>\n",
       "      <td>13126849.0</td>\n",
       "      <td>2023-07-01 15:00:00</td>\n",
       "      <td>THEFT</td>\n",
       "      <td>5.0</td>\n",
       "      <td>5.72</td>\n",
       "    </tr>\n",
       "  </tbody>\n",
       "</table>\n",
       "<p>5 rows × 26 columns</p>\n",
       "</div>"
      ],
      "text/plain": [
       "     id                                               name  host_id host_name  \\\n",
       "0  2384  Condo in Chicago · ★4.99 · 1 bedroom · 1 bed ·...     2613   Rebecca   \n",
       "1  2384  Condo in Chicago · ★4.99 · 1 bedroom · 1 bed ·...     2613   Rebecca   \n",
       "2  2384  Condo in Chicago · ★4.99 · 1 bedroom · 1 bed ·...     2613   Rebecca   \n",
       "3  2384  Condo in Chicago · ★4.99 · 1 bedroom · 1 bed ·...     2613   Rebecca   \n",
       "4  2384  Condo in Chicago · ★4.99 · 1 bedroom · 1 bed ·...     2613   Rebecca   \n",
       "\n",
       "   neighbourhood_group neighbourhood  latitude  longitude     room_type  \\\n",
       "0                  NaN     Hyde Park   41.7879   -87.5878  Private room   \n",
       "1                  NaN     Hyde Park   41.7879   -87.5878  Private room   \n",
       "2                  NaN     Hyde Park   41.7879   -87.5878  Private room   \n",
       "3                  NaN     Hyde Park   41.7879   -87.5878  Private room   \n",
       "4                  NaN     Hyde Park   41.7879   -87.5878  Private room   \n",
       "\n",
       "   price  ...  number_of_reviews_ltm       license     Date_x  year  quarter  \\\n",
       "0    114  ...                     20  R17000015609 2023-09-03  2023        3   \n",
       "1    114  ...                     20  R17000015609 2023-09-03  2023        3   \n",
       "2    114  ...                     20  R17000015609 2023-09-03  2023        3   \n",
       "3    114  ...                     20  R17000015609 2023-09-03  2023        3   \n",
       "4    114  ...                     20  R17000015609 2023-09-03  2023        3   \n",
       "\n",
       "           ID              Date_y Primary Type Score  Score_avg  \n",
       "0  13125573.0 2023-07-01 01:00:00      ROBBERY   6.0       5.72  \n",
       "1  13129072.0 2023-07-01 01:00:00        THEFT   5.0       5.72  \n",
       "2  13125564.0 2023-07-01 01:05:00      BATTERY   7.0       5.72  \n",
       "3  13125701.0 2023-07-01 01:45:00      ROBBERY   6.0       5.72  \n",
       "4  13126849.0 2023-07-01 15:00:00        THEFT   5.0       5.72  \n",
       "\n",
       "[5 rows x 26 columns]"
      ]
     },
     "execution_count": 31,
     "metadata": {},
     "output_type": "execute_result"
    }
   ],
   "source": [
    "final.head()"
   ]
  },
  {
   "cell_type": "code",
   "execution_count": 33,
   "id": "e8d00174-e27f-49f0-8502-587cc517d1b9",
   "metadata": {
    "tags": []
   },
   "outputs": [
    {
     "name": "stdout",
     "output_type": "stream",
     "text": [
      "                         id  \\\n",
      "0                      2384   \n",
      "1                      2384   \n",
      "2                      2384   \n",
      "3                      2384   \n",
      "4                      2384   \n",
      "...                     ...   \n",
      "8383315  973015093684752148   \n",
      "8383316  973015093684752148   \n",
      "8383317  973015093684752148   \n",
      "8383318  973015093684752148   \n",
      "8383319  973015093684752148   \n",
      "\n",
      "                                                      name   host_id  \\\n",
      "0        Condo in Chicago · ★4.99 · 1 bedroom · 1 bed ·...      2613   \n",
      "1        Condo in Chicago · ★4.99 · 1 bedroom · 1 bed ·...      2613   \n",
      "2        Condo in Chicago · ★4.99 · 1 bedroom · 1 bed ·...      2613   \n",
      "3        Condo in Chicago · ★4.99 · 1 bedroom · 1 bed ·...      2613   \n",
      "4        Condo in Chicago · ★4.99 · 1 bedroom · 1 bed ·...      2613   \n",
      "...                                                    ...       ...   \n",
      "8383315  Rental unit in Chicago · ★New · 2 bedrooms · 2...  67751745   \n",
      "8383316  Rental unit in Chicago · ★New · 2 bedrooms · 2...  67751745   \n",
      "8383317  Rental unit in Chicago · ★New · 2 bedrooms · 2...  67751745   \n",
      "8383318  Rental unit in Chicago · ★New · 2 bedrooms · 2...  67751745   \n",
      "8383319  Rental unit in Chicago · ★New · 2 bedrooms · 2...  67751745   \n",
      "\n",
      "        host_name  neighbourhood_group    neighbourhood   latitude  longitude  \\\n",
      "0         Rebecca                  NaN        Hyde Park  41.787900 -87.587800   \n",
      "1         Rebecca                  NaN        Hyde Park  41.787900 -87.587800   \n",
      "2         Rebecca                  NaN        Hyde Park  41.787900 -87.587800   \n",
      "3         Rebecca                  NaN        Hyde Park  41.787900 -87.587800   \n",
      "4         Rebecca                  NaN        Hyde Park  41.787900 -87.587800   \n",
      "...           ...                  ...              ...        ...        ...   \n",
      "8383315     Brett                  NaN  Near North Side  41.896538 -87.638062   \n",
      "8383316     Brett                  NaN  Near North Side  41.896538 -87.638062   \n",
      "8383317     Brett                  NaN  Near North Side  41.896538 -87.638062   \n",
      "8383318     Brett                  NaN  Near North Side  41.896538 -87.638062   \n",
      "8383319     Brett                  NaN  Near North Side  41.896538 -87.638062   \n",
      "\n",
      "               room_type  price  ...       license     Date_x  year  quarter  \\\n",
      "0           Private room    114  ...  R17000015609 2023-09-03  2023        3   \n",
      "1           Private room    114  ...  R17000015609 2023-09-03  2023        3   \n",
      "2           Private room    114  ...  R17000015609 2023-09-03  2023        3   \n",
      "3           Private room    114  ...  R17000015609 2023-09-03  2023        3   \n",
      "4           Private room    114  ...  R17000015609 2023-09-03  2023        3   \n",
      "...                  ...    ...  ...           ...        ...   ...      ...   \n",
      "8383315  Entire home/apt    367  ...  R23000102789 2023-09-07  2023        3   \n",
      "8383316  Entire home/apt    367  ...  R23000102789 2023-09-07  2023        3   \n",
      "8383317  Entire home/apt    367  ...  R23000102789 2023-09-07  2023        3   \n",
      "8383318  Entire home/apt    367  ...  R23000102789 2023-09-07  2023        3   \n",
      "8383319  Entire home/apt    367  ...  R23000102789 2023-09-07  2023        3   \n",
      "\n",
      "                 ID              Date_y                Primary Type Score  \\\n",
      "0        13125573.0 2023-07-01 01:00:00                     ROBBERY   6.0   \n",
      "1        13129072.0 2023-07-01 01:00:00                       THEFT   5.0   \n",
      "2        13125564.0 2023-07-01 01:05:00                     BATTERY   7.0   \n",
      "3        13125701.0 2023-07-01 01:45:00                     ROBBERY   6.0   \n",
      "4        13126849.0 2023-07-01 15:00:00                       THEFT   5.0   \n",
      "...             ...                 ...                         ...   ...   \n",
      "8383315  13228648.0 2023-09-30 22:30:00                     BATTERY   7.0   \n",
      "8383316  13229223.0 2023-09-30 23:00:00  OFFENSE INVOLVING CHILDREN   5.0   \n",
      "8383317  13228556.0 2023-09-30 23:29:00           WEAPONS VIOLATION   7.0   \n",
      "8383318  13228635.0 2023-09-30 23:32:00                     ASSAULT   8.0   \n",
      "8383319  13231778.0 2023-09-30 23:55:00                       THEFT   5.0   \n",
      "\n",
      "        Score_avg   price_avg  \n",
      "0            5.72  149.432263  \n",
      "1            5.72  149.432263  \n",
      "2            5.72  149.432263  \n",
      "3            5.72  149.432263  \n",
      "4            5.72  149.432263  \n",
      "...           ...         ...  \n",
      "8383315      5.66  273.132773  \n",
      "8383316      5.66  273.132773  \n",
      "8383317      5.66  273.132773  \n",
      "8383318      5.66  273.132773  \n",
      "8383319      5.66  273.132773  \n",
      "\n",
      "[8383320 rows x 27 columns]\n"
     ]
    }
   ],
   "source": [
    "# Replace 'quarter' and 'neighbourhood' with the actual column names from your DataFrame\n",
    "average_price = final.groupby(['quarter', 'neighbourhood'])['price'].mean().reset_index()\n",
    "\n",
    "final = pd.merge(final, average_price, on=['quarter', 'neighbourhood'], how='left', suffixes=('', '_avg'))\n",
    "\n",
    "# Display the updated DataFrame\n",
    "print(final)"
   ]
  },
  {
   "cell_type": "markdown",
   "id": "c69c5262-3719-4adc-aea2-2c7439aa734a",
   "metadata": {},
   "source": [
    "## Scatter plot for average price and avreage crime score"
   ]
  },
  {
   "cell_type": "code",
   "execution_count": 37,
   "id": "66189e21-c67c-40de-a1ca-ec7d491b19b1",
   "metadata": {
    "tags": []
   },
   "outputs": [
    {
     "name": "stdout",
     "output_type": "stream",
     "text": [
      "Correlation between average_price and score_avg: -0.644663922818268\n"
     ]
    }
   ],
   "source": [
    "correlation = final['price_avg'].corr(final['Score_avg'])\n",
    "\n",
    "print(f\"Correlation between average_price and score_avg: {correlation}\")"
   ]
  },
  {
   "cell_type": "code",
   "execution_count": 57,
   "id": "58e9d431-f072-4e92-8446-3aa5042aa299",
   "metadata": {
    "tags": []
   },
   "outputs": [
    {
     "name": "stdout",
     "output_type": "stream",
     "text": [
      "Score_avg    1071\n",
      "price_avg       0\n",
      "dtype: int64\n"
     ]
    }
   ],
   "source": [
    "print(final[['Score_avg', 'price_avg']].isnull().sum())\n",
    "\n"
   ]
  },
  {
   "cell_type": "code",
   "execution_count": 126,
   "id": "f72de7e0-8e2c-4f96-8fba-cb1c98f8673c",
   "metadata": {
    "tags": []
   },
   "outputs": [
    {
     "name": "stderr",
     "output_type": "stream",
     "text": [
      "No artists with labels found to put in legend.  Note that artists whose label start with an underscore are ignored when legend() is called with no argument.\n"
     ]
    },
    {
     "data": {
      "image/png": "[encoded data removed]",
      "text/plain": [
       "<Figure size 1000x600 with 1 Axes>"
      ]
     },
     "metadata": {},
     "output_type": "display_data"
    }
   ],
   "source": [
    "import matplotlib.pyplot as plt\n",
    "import seaborn as sns\n",
    "from scipy.stats import linregress\n",
    "\n",
    "# Assuming 'score_avg' and 'average_price' are the column names in your DataFrame\n",
    "x = final['Score_avg']\n",
    "y = final['price_avg']\n",
    "\n",
    "# Drop NaN values before performing linear regression\n",
    "data = pd.concat([x, y], axis=1).dropna()\n",
    "\n",
    "# Perform linear regression\n",
    "result = linregress(x, y)\n",
    "\n",
    "\n",
    "# Create a scatter plot\n",
    "plt.figure(figsize=(10, 6))\n",
    "sns.scatterplot(x=x, y=y, color='blue', alpha=0.5)\n",
    "\n",
    "# Plot the regression line\n",
    "plt.plot(x, result.intercept + result.slope * x, color='red', linewidth=10)\n",
    "\n",
    "# Add labels and title\n",
    "plt.xlabel('Score_avg')\n",
    "plt.ylabel('Average Price')\n",
    "plt.title('Scatter plot: Score_avg vs. Average Price')\n",
    "\n",
    "# Add a legend\n",
    "plt.legend()\n",
    "\n",
    "# Display the plot\n",
    "plt.show()\n"
   ]
  },
  {
   "cell_type": "code",
   "execution_count": 68,
   "id": "35f2598b-ef53-4fe0-8a5a-c4b600294afa",
   "metadata": {
    "tags": []
   },
   "outputs": [
    {
     "name": "stdout",
     "output_type": "stream",
     "text": [
      "The neighborhood with the highest Score_avg is 'Riverdale' with a score of 6.51\n",
      "The neighborhood with the lowest Score_avg is 'Portage Park' with a score of 5.38\n",
      "The neighborhood with the highest Score_avg is 'Mckinley Park' with a score of 1032.50\n",
      "The neighborhood with the lowest Score_avg is 'East Side' with a score of 21.00\n"
     ]
    }
   ],
   "source": [
    "# Find the neighborhood with the highest Score_avg and avg_price\n",
    "neighborhood_highest_score = final.loc[final['Score_avg'].idxmax()]['neighbourhood']\n",
    "highest_score_value = final['Score_avg'].max()\n",
    "\n",
    "neighborhood_highest_price = final.loc[final['price_avg'].idxmax()]['neighbourhood']\n",
    "highest_price_value = final['price_avg'].max()\n",
    "\n",
    "\n",
    "# Find the neighborhood with the lowest Score_avg and avg_price\n",
    "neighborhood_lowest_score = final.loc[final['Score_avg'].idxmin()]['neighbourhood']\n",
    "lowest_score_value = final['Score_avg'].min()\n",
    "\n",
    "neighborhood_lowest_price = final.loc[final['price_avg'].idxmin()]['neighbourhood']\n",
    "lowest_price_value = final['price_avg'].min()\n",
    "\n",
    "# Print the results\n",
    "print(f\"The neighborhood with the highest Score_avg is '{neighborhood_highest_score}' with a score of {highest_score_value:.2f}\")\n",
    "print(f\"The neighborhood with the lowest Score_avg is '{neighborhood_lowest_score}' with a score of {lowest_score_value:.2f}\")\n",
    "print(f\"The neighborhood with the highest Score_avg is '{neighborhood_highest_price}' with a score of {highest_price_value:.2f}\")\n",
    "print(f\"The neighborhood with the lowest Score_avg is '{neighborhood_lowest_price}' with a score of {lowest_price_value:.2f}\")\n"
   ]
  },
  {
   "cell_type": "code",
   "execution_count": 127,
   "id": "f0662c56-3099-44d0-9b99-a407f469d957",
   "metadata": {
    "tags": []
   },
   "outputs": [
    {
     "name": "stdout",
     "output_type": "stream",
     "text": [
      "Top 10 Neighborhoods with the Highest Mean Score_avg:\n",
      "        neighbourhood  Score_avg\n",
      "0           Riverdale   6.510000\n",
      "1       South Chicago   6.210331\n",
      "2       Brighton Park   6.209962\n",
      "3           Englewood   6.193127\n",
      "4           Gage Park   6.190000\n",
      "5      South Lawndale   6.188857\n",
      "6       Armour Square   6.178836\n",
      "7          Bridgeport   6.166885\n",
      "8      North Lawndale   6.166356\n",
      "9  East Garfield Park   6.140748\n"
     ]
    }
   ],
   "source": [
    "# Group by neighborhood and calculate the mean Score_avg for each neighborhood\n",
    "neighborhood_scores = final.groupby('neighbourhood')['Score_avg'].mean()\n",
    "\n",
    "# Get the top 10 neighborhoods with the highest mean Score_avg\n",
    "top_10_neighborhoods_highest_score = neighborhood_scores.nlargest(10).reset_index()\n",
    "\n",
    "# Print the result\n",
    "print(\"Top 10 Neighborhoods with the Highest Mean Score_avg:\")\n",
    "print(top_10_neighborhoods_highest_score)\n"
   ]
  },
  {
   "cell_type": "code",
   "execution_count": null,
   "id": "5bdd7eb6-4712-4d75-ae72-0300bb4f75e6",
   "metadata": {},
   "outputs": [],
   "source": []
  }
 ],
 "metadata": {
  "kernelspec": {
   "display_name": "Python 3 (ipykernel)",
   "language": "python",
   "name": "python3"
  },
  "language_info": {
   "codemirror_mode": {
    "name": "ipython",
    "version": 3
   },
   "file_extension": ".py",
   "mimetype": "text/x-python",
   "name": "python",
   "nbconvert_exporter": "python",
   "pygments_lexer": "ipython3",
   "version": "3.11.4"
  }
 },
 "nbformat": 4,
 "nbformat_minor": 5
}
